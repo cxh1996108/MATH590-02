{
 "cells": [
  {
   "cell_type": "markdown",
   "metadata": {},
   "source": [
    "![QuantConnect Logo](https://cdn.quantconnect.com/web/i/icon.png)\n",
    "<hr>"
   ]
  },
  {
   "cell_type": "markdown",
   "metadata": {},
   "source": [
    "# Lecture11_Homework_Xiaohan Cheng"
   ]
  },
  {
   "cell_type": "markdown",
   "metadata": {},
   "source": [
    "## 3) Rank stocks in 1) by the autocorrelation using daily close data from 1/1/2021 to 3/1/2021"
   ]
  },
  {
   "cell_type": "code",
   "execution_count": 29,
   "metadata": {},
   "outputs": [],
   "source": [
    "# QuantBook Analysis Tool \n",
    "# For more information see [https://www.quantconnect.com/docs/research/overview]\n",
    "qb = QuantBook()"
   ]
  },
  {
   "cell_type": "code",
   "execution_count": 30,
   "metadata": {},
   "outputs": [],
   "source": [
    "import math\n",
    "start_time = datetime(2021, 1, 1) # start datetime for history call\n",
    "end_time = datetime(2021, 3, 1) # end datetime for history call"
   ]
  },
  {
   "cell_type": "code",
   "execution_count": 3,
   "metadata": {},
   "outputs": [],
   "source": [
    "universe = [\"AMZN\", \"BABA\", \"HD\", \"TOYOY\", \"MCD\", \"NKE\", \"SBUX\", \"LOW\", \"PCLN\", \"TJX\"]\n",
    "log = pd.DataFrame()\n",
    "log_diff = pd.DataFrame()\n",
    "rho = pd.DataFrame()\n",
    "for symbol in universe:\n",
    "    qb.symbol = qb.AddEquity(symbol, Resolution.Daily)\n",
    "    history = qb.History(qb.symbol.Symbol, start_time, end_time, Resolution.Daily)\n",
    "    # Can also write like this: log[symbol] = history.loc[symbol].close.apply(lambda x: math.log(x))\n",
    "    log[symbol] = np.log(history.loc[symbol].close)\n",
    "    log_diff[symbol] = np.diff(log[symbol])\n",
    "    # https://pandas.pydata.org/pandas-docs/stable/reference/api/pandas.Series.autocorr.html\n",
    "    rho[symbol] = pd.Series(log_diff[symbol].autocorr(1))"
   ]
  },
  {
   "cell_type": "code",
   "execution_count": 4,
   "metadata": {},
   "outputs": [
    {
     "data": {
      "text/html": [
       "<div>\n",
       "<style scoped>\n",
       "    .dataframe tbody tr th:only-of-type {\n",
       "        vertical-align: middle;\n",
       "    }\n",
       "\n",
       "    .dataframe tbody tr th {\n",
       "        vertical-align: top;\n",
       "    }\n",
       "\n",
       "    .dataframe thead th {\n",
       "        text-align: right;\n",
       "    }\n",
       "</style>\n",
       "<table border=\"1\" class=\"dataframe\">\n",
       "  <thead>\n",
       "    <tr style=\"text-align: right;\">\n",
       "      <th></th>\n",
       "      <th>NB</th>\n",
       "      <th>CMB</th>\n",
       "      <th>TRV</th>\n",
       "      <th>NOB</th>\n",
       "      <th>V</th>\n",
       "      <th>BRKB</th>\n",
       "      <th>MA</th>\n",
       "      <th>PYPL</th>\n",
       "      <th>MHP</th>\n",
       "      <th>GS</th>\n",
       "    </tr>\n",
       "  </thead>\n",
       "  <tbody>\n",
       "    <tr>\n",
       "      <th>0</th>\n",
       "      <td>0.182211</td>\n",
       "      <td>0.285993</td>\n",
       "      <td>-0.081161</td>\n",
       "      <td>0.067906</td>\n",
       "      <td>-0.168926</td>\n",
       "      <td>-0.036506</td>\n",
       "      <td>-0.101583</td>\n",
       "      <td>0.029922</td>\n",
       "      <td>-0.19211</td>\n",
       "      <td>0.240589</td>\n",
       "    </tr>\n",
       "  </tbody>\n",
       "</table>\n",
       "</div>"
      ],
      "text/plain": [
       "         NB       CMB       TRV       NOB         V      BRKB        MA  \\\n",
       "0  0.182211  0.285993 -0.081161  0.067906 -0.168926 -0.036506 -0.101583   \n",
       "\n",
       "       PYPL      MHP        GS  \n",
       "0  0.029922 -0.19211  0.240589  "
      ]
     },
     "execution_count": 4,
     "metadata": {},
     "output_type": "execute_result"
    }
   ],
   "source": [
    "rho\n"
   ]
  },
  {
   "cell_type": "code",
   "execution_count": 5,
   "metadata": {},
   "outputs": [
    {
     "data": {
      "text/html": [
       "<div>\n",
       "<style scoped>\n",
       "    .dataframe tbody tr th:only-of-type {\n",
       "        vertical-align: middle;\n",
       "    }\n",
       "\n",
       "    .dataframe tbody tr th {\n",
       "        vertical-align: top;\n",
       "    }\n",
       "\n",
       "    .dataframe thead th {\n",
       "        text-align: right;\n",
       "    }\n",
       "</style>\n",
       "<table border=\"1\" class=\"dataframe\">\n",
       "  <thead>\n",
       "    <tr style=\"text-align: right;\">\n",
       "      <th></th>\n",
       "      <th>CMB</th>\n",
       "      <th>GS</th>\n",
       "      <th>NB</th>\n",
       "      <th>NOB</th>\n",
       "      <th>PYPL</th>\n",
       "      <th>BRKB</th>\n",
       "      <th>TRV</th>\n",
       "      <th>MA</th>\n",
       "      <th>V</th>\n",
       "      <th>MHP</th>\n",
       "    </tr>\n",
       "  </thead>\n",
       "  <tbody>\n",
       "    <tr>\n",
       "      <th>0</th>\n",
       "      <td>0.285993</td>\n",
       "      <td>0.240589</td>\n",
       "      <td>0.182211</td>\n",
       "      <td>0.067906</td>\n",
       "      <td>0.029922</td>\n",
       "      <td>-0.036506</td>\n",
       "      <td>-0.081161</td>\n",
       "      <td>-0.101583</td>\n",
       "      <td>-0.168926</td>\n",
       "      <td>-0.19211</td>\n",
       "    </tr>\n",
       "  </tbody>\n",
       "</table>\n",
       "</div>"
      ],
      "text/plain": [
       "        CMB        GS        NB       NOB      PYPL      BRKB       TRV  \\\n",
       "0  0.285993  0.240589  0.182211  0.067906  0.029922 -0.036506 -0.081161   \n",
       "\n",
       "         MA         V      MHP  \n",
       "0 -0.101583 -0.168926 -0.19211  "
      ]
     },
     "execution_count": 5,
     "metadata": {},
     "output_type": "execute_result"
    }
   ],
   "source": [
    "rho.sort_values(by = 0, axis = 1, ascending = False)\n"
   ]
  },
  {
   "cell_type": "markdown",
   "metadata": {},
   "source": [
    "## 3) Rank stocks in 2) by the autocorrelation using daily close data from 1/1/2021 to 3/1/2021"
   ]
  },
  {
   "cell_type": "code",
   "execution_count": 31,
   "metadata": {},
   "outputs": [
    {
     "data": {
      "text/html": [
       "<div>\n",
       "<style scoped>\n",
       "    .dataframe tbody tr th:only-of-type {\n",
       "        vertical-align: middle;\n",
       "    }\n",
       "\n",
       "    .dataframe tbody tr th {\n",
       "        vertical-align: top;\n",
       "    }\n",
       "\n",
       "    .dataframe thead th {\n",
       "        text-align: right;\n",
       "    }\n",
       "</style>\n",
       "<table border=\"1\" class=\"dataframe\">\n",
       "  <thead>\n",
       "    <tr style=\"text-align: right;\">\n",
       "      <th></th>\n",
       "      <th>CMB</th>\n",
       "      <th>GS</th>\n",
       "      <th>NB</th>\n",
       "      <th>NOB</th>\n",
       "      <th>PYPL</th>\n",
       "      <th>BRKB</th>\n",
       "      <th>TRV</th>\n",
       "      <th>MA</th>\n",
       "      <th>V</th>\n",
       "      <th>MHP</th>\n",
       "    </tr>\n",
       "  </thead>\n",
       "  <tbody>\n",
       "    <tr>\n",
       "      <th>0</th>\n",
       "      <td>0.285993</td>\n",
       "      <td>0.240589</td>\n",
       "      <td>0.182211</td>\n",
       "      <td>0.067906</td>\n",
       "      <td>0.029922</td>\n",
       "      <td>-0.036506</td>\n",
       "      <td>-0.081161</td>\n",
       "      <td>-0.101583</td>\n",
       "      <td>-0.168926</td>\n",
       "      <td>-0.19211</td>\n",
       "    </tr>\n",
       "  </tbody>\n",
       "</table>\n",
       "</div>"
      ],
      "text/plain": [
       "        CMB        GS        NB       NOB      PYPL      BRKB       TRV  \\\n",
       "0  0.285993  0.240589  0.182211  0.067906  0.029922 -0.036506 -0.081161   \n",
       "\n",
       "         MA         V      MHP  \n",
       "0 -0.101583 -0.168926 -0.19211  "
      ]
     },
     "execution_count": 31,
     "metadata": {},
     "output_type": "execute_result"
    }
   ],
   "source": [
    "universe = [\"NB\", \"CMB\", \"TRV\", \"NOB\", \"V\", \"BRKB\", \"MA\", \"PYPL\", \"MHP\", \"GS\"]\n",
    "log = pd.DataFrame()\n",
    "log_diff = pd.DataFrame()\n",
    "rho = pd.DataFrame()\n",
    "for symbol in universe:\n",
    "    qb.symbol = qb.AddEquity(symbol, Resolution.Daily)\n",
    "    history = qb.History(qb.symbol.Symbol, start_time, end_time, Resolution.Daily)\n",
    "    # Can also write like this: log[symbol] = history.loc[symbol].close.apply(lambda x: math.log(x))\n",
    "    log[symbol] = np.log(history.loc[symbol].close)\n",
    "    log_diff[symbol] = np.diff(log[symbol])\n",
    "    # https://pandas.pydata.org/pandas-docs/stable/reference/api/pandas.Series.autocorr.html\n",
    "    rho[symbol] = pd.Series(log_diff[symbol].autocorr(1))\n",
    "rho.sort_values(by = 0, axis = 1, ascending = False)"
   ]
  },
  {
   "cell_type": "markdown",
   "metadata": {},
   "source": [
    "## 4)Rank the stock pairs within 1)  by ADF then by Bruesch-Pagan test using the historical data from 9/1/2020 to 3/1/2021"
   ]
  },
  {
   "cell_type": "code",
   "execution_count": 32,
   "metadata": {},
   "outputs": [],
   "source": [
    "import statsmodels\n",
    "import statsmodels.api as sm\n",
    "from statsmodels.tsa.stattools import coint, adfuller\n",
    "from statsmodels import regression,stats\n",
    "start_time = datetime(2020, 9, 1) # start datetime for history call\n",
    "end_time = datetime(2021, 3, 1) # end datetime for history call"
   ]
  },
  {
   "cell_type": "code",
   "execution_count": 36,
   "metadata": {},
   "outputs": [],
   "source": [
    "universe = [\"AMZN\", \"BABA\", \"HD\", \"TOYOY\", \"MCD\", \"NKE\", \"SBUX\", \"LOW\", \"PCLN\", \"TJX\"]\n",
    "log = pd.DataFrame()\n",
    "for symbol in universe:\n",
    "    qb.symbol = qb.AddEquity(symbol, Resolution.Daily)\n",
    "    history = qb.History(qb.symbol.Symbol, start_time, end_time, Resolution.Daily)\n",
    "    # Can also write like this: log[symbol] = history.loc[symbol].close.apply(lambda x: math.log(x))\n",
    "    log[symbol] = np.log(history.loc[symbol].close)"
   ]
  },
  {
   "cell_type": "code",
   "execution_count": 40,
   "metadata": {},
   "outputs": [],
   "source": [
    "# https://www.cnblogs.com/shirely-2014/p/10512924.html\n",
    "# This function returns the p-value of the Augmented Dickey-Fuller test\n",
    "def ADF(X, Y):\n",
    "    X = sm.add_constant(X)\n",
    "    model = sm.OLS(Y, X)\n",
    "    results = model.fit()\n",
    "    sigma = math.sqrt(results.mse_resid) # standard deviation of the residual\n",
    "    slope = results.params[1]\n",
    "    intercept = results.params[0]\n",
    "    res = results.resid # regression residual mean of res = 0 by definition\n",
    "    zscore = res/sigma\n",
    "    adf = adfuller (res)  # ADF Test -- Augmented Dickey-Fuller test for unit root\n",
    "    return adf[1]"
   ]
  },
  {
   "cell_type": "code",
   "execution_count": 41,
   "metadata": {},
   "outputs": [],
   "source": [
    "rank = pd.DataFrame()\n",
    "for Y in universe:\n",
    "    for X in universe:\n",
    "        if universe.index(X) > universe.index(Y):\n",
    "            rank[Y + \"-\" + X] = pd.Series(ADF(log[X], log[Y]))"
   ]
  },
  {
   "cell_type": "code",
   "execution_count": 42,
   "metadata": {},
   "outputs": [
    {
     "data": {
      "text/html": [
       "<div>\n",
       "<style scoped>\n",
       "    .dataframe tbody tr th:only-of-type {\n",
       "        vertical-align: middle;\n",
       "    }\n",
       "\n",
       "    .dataframe tbody tr th {\n",
       "        vertical-align: top;\n",
       "    }\n",
       "\n",
       "    .dataframe thead th {\n",
       "        text-align: right;\n",
       "    }\n",
       "</style>\n",
       "<table border=\"1\" class=\"dataframe\">\n",
       "  <thead>\n",
       "    <tr style=\"text-align: right;\">\n",
       "      <th></th>\n",
       "      <th>AMZN-BABA</th>\n",
       "      <th>AMZN-HD</th>\n",
       "      <th>AMZN-TOYOY</th>\n",
       "      <th>AMZN-MCD</th>\n",
       "      <th>AMZN-NKE</th>\n",
       "      <th>AMZN-SBUX</th>\n",
       "      <th>AMZN-LOW</th>\n",
       "      <th>AMZN-PCLN</th>\n",
       "      <th>AMZN-TJX</th>\n",
       "      <th>BABA-HD</th>\n",
       "      <th>...</th>\n",
       "      <th>NKE-SBUX</th>\n",
       "      <th>NKE-LOW</th>\n",
       "      <th>NKE-PCLN</th>\n",
       "      <th>NKE-TJX</th>\n",
       "      <th>SBUX-LOW</th>\n",
       "      <th>SBUX-PCLN</th>\n",
       "      <th>SBUX-TJX</th>\n",
       "      <th>LOW-PCLN</th>\n",
       "      <th>LOW-TJX</th>\n",
       "      <th>PCLN-TJX</th>\n",
       "    </tr>\n",
       "  </thead>\n",
       "  <tbody>\n",
       "    <tr>\n",
       "      <th>0</th>\n",
       "      <td>0.000385</td>\n",
       "      <td>0.000302</td>\n",
       "      <td>0.000178</td>\n",
       "      <td>0.000271</td>\n",
       "      <td>0.00009</td>\n",
       "      <td>0.000155</td>\n",
       "      <td>0.000045</td>\n",
       "      <td>0.000251</td>\n",
       "      <td>0.000118</td>\n",
       "      <td>0.058318</td>\n",
       "      <td>...</td>\n",
       "      <td>0.031884</td>\n",
       "      <td>0.203252</td>\n",
       "      <td>0.032866</td>\n",
       "      <td>0.003383</td>\n",
       "      <td>0.85411</td>\n",
       "      <td>0.010868</td>\n",
       "      <td>0.003236</td>\n",
       "      <td>0.140175</td>\n",
       "      <td>0.133414</td>\n",
       "      <td>0.180712</td>\n",
       "    </tr>\n",
       "  </tbody>\n",
       "</table>\n",
       "<p>1 rows × 45 columns</p>\n",
       "</div>"
      ],
      "text/plain": [
       "   AMZN-BABA   AMZN-HD  AMZN-TOYOY  AMZN-MCD  AMZN-NKE  AMZN-SBUX  AMZN-LOW  \\\n",
       "0   0.000385  0.000302    0.000178  0.000271   0.00009   0.000155  0.000045   \n",
       "\n",
       "   AMZN-PCLN  AMZN-TJX   BABA-HD  ...  NKE-SBUX   NKE-LOW  NKE-PCLN   NKE-TJX  \\\n",
       "0   0.000251  0.000118  0.058318  ...  0.031884  0.203252  0.032866  0.003383   \n",
       "\n",
       "   SBUX-LOW  SBUX-PCLN  SBUX-TJX  LOW-PCLN   LOW-TJX  PCLN-TJX  \n",
       "0   0.85411   0.010868  0.003236  0.140175  0.133414  0.180712  \n",
       "\n",
       "[1 rows x 45 columns]"
      ]
     },
     "execution_count": 42,
     "metadata": {},
     "output_type": "execute_result"
    }
   ],
   "source": [
    "rank"
   ]
  },
  {
   "cell_type": "code",
   "execution_count": 44,
   "metadata": {},
   "outputs": [
    {
     "data": {
      "text/html": [
       "<div>\n",
       "<style scoped>\n",
       "    .dataframe tbody tr th:only-of-type {\n",
       "        vertical-align: middle;\n",
       "    }\n",
       "\n",
       "    .dataframe tbody tr th {\n",
       "        vertical-align: top;\n",
       "    }\n",
       "\n",
       "    .dataframe thead th {\n",
       "        text-align: right;\n",
       "    }\n",
       "</style>\n",
       "<table border=\"1\" class=\"dataframe\">\n",
       "  <thead>\n",
       "    <tr style=\"text-align: right;\">\n",
       "      <th></th>\n",
       "      <th>AMZN-LOW</th>\n",
       "      <th>AMZN-NKE</th>\n",
       "      <th>AMZN-TJX</th>\n",
       "      <th>AMZN-SBUX</th>\n",
       "      <th>AMZN-TOYOY</th>\n",
       "      <th>AMZN-PCLN</th>\n",
       "      <th>AMZN-MCD</th>\n",
       "      <th>AMZN-HD</th>\n",
       "      <th>AMZN-BABA</th>\n",
       "      <th>MCD-PCLN</th>\n",
       "      <th>...</th>\n",
       "      <th>BABA-SBUX</th>\n",
       "      <th>LOW-TJX</th>\n",
       "      <th>BABA-NKE</th>\n",
       "      <th>LOW-PCLN</th>\n",
       "      <th>PCLN-TJX</th>\n",
       "      <th>NKE-LOW</th>\n",
       "      <th>MCD-LOW</th>\n",
       "      <th>BABA-LOW</th>\n",
       "      <th>TOYOY-LOW</th>\n",
       "      <th>SBUX-LOW</th>\n",
       "    </tr>\n",
       "  </thead>\n",
       "  <tbody>\n",
       "    <tr>\n",
       "      <th>0</th>\n",
       "      <td>0.000045</td>\n",
       "      <td>0.00009</td>\n",
       "      <td>0.000118</td>\n",
       "      <td>0.000155</td>\n",
       "      <td>0.000178</td>\n",
       "      <td>0.000251</td>\n",
       "      <td>0.000271</td>\n",
       "      <td>0.000302</td>\n",
       "      <td>0.000385</td>\n",
       "      <td>0.000401</td>\n",
       "      <td>...</td>\n",
       "      <td>0.095436</td>\n",
       "      <td>0.133414</td>\n",
       "      <td>0.137115</td>\n",
       "      <td>0.140175</td>\n",
       "      <td>0.180712</td>\n",
       "      <td>0.203252</td>\n",
       "      <td>0.304103</td>\n",
       "      <td>0.544346</td>\n",
       "      <td>0.583061</td>\n",
       "      <td>0.85411</td>\n",
       "    </tr>\n",
       "  </tbody>\n",
       "</table>\n",
       "<p>1 rows × 45 columns</p>\n",
       "</div>"
      ],
      "text/plain": [
       "   AMZN-LOW  AMZN-NKE  AMZN-TJX  AMZN-SBUX  AMZN-TOYOY  AMZN-PCLN  AMZN-MCD  \\\n",
       "0  0.000045   0.00009  0.000118   0.000155    0.000178   0.000251  0.000271   \n",
       "\n",
       "    AMZN-HD  AMZN-BABA  MCD-PCLN  ...  BABA-SBUX   LOW-TJX  BABA-NKE  \\\n",
       "0  0.000302   0.000385  0.000401  ...   0.095436  0.133414  0.137115   \n",
       "\n",
       "   LOW-PCLN  PCLN-TJX   NKE-LOW   MCD-LOW  BABA-LOW  TOYOY-LOW  SBUX-LOW  \n",
       "0  0.140175  0.180712  0.203252  0.304103  0.544346   0.583061   0.85411  \n",
       "\n",
       "[1 rows x 45 columns]"
      ]
     },
     "execution_count": 44,
     "metadata": {},
     "output_type": "execute_result"
    }
   ],
   "source": [
    "rank.sort_values(by = 0, axis = 1, ascending = True)"
   ]
  },
  {
   "cell_type": "code",
   "execution_count": 45,
   "metadata": {},
   "outputs": [],
   "source": [
    "# This function returns the p-value of the Bruesch-Pagan test\n",
    "def BP(X, Y):\n",
    "    X = sm.add_constant(X)\n",
    "    model = sm.OLS(Y, X)\n",
    "    results = model.fit()\n",
    "    sigma = math.sqrt(results.mse_resid) # standard deviation of the residual\n",
    "    slope = results.params[1]\n",
    "    intercept = results.params[0]\n",
    "    res = results.resid # regression residual mean of res = 0 by definition\n",
    "    zscore = res/sigma\n",
    "    # p_value of Bruesch-Pagan test for heteroskedasticity\n",
    "    bp = statsmodels.stats.diagnostic.het_breuschpagan(res, X)[3] \n",
    "    return bp"
   ]
  },
  {
   "cell_type": "code",
   "execution_count": 46,
   "metadata": {},
   "outputs": [],
   "source": [
    "rank = pd.DataFrame()\n",
    "for Y in universe:\n",
    "    for X in universe:\n",
    "        if universe.index(X) > universe.index(Y):\n",
    "            rank[Y + \"-\" + X] = pd.Series(BP(log[X], log[Y]))"
   ]
  },
  {
   "cell_type": "code",
   "execution_count": 47,
   "metadata": {},
   "outputs": [
    {
     "data": {
      "text/html": [
       "<div>\n",
       "<style scoped>\n",
       "    .dataframe tbody tr th:only-of-type {\n",
       "        vertical-align: middle;\n",
       "    }\n",
       "\n",
       "    .dataframe tbody tr th {\n",
       "        vertical-align: top;\n",
       "    }\n",
       "\n",
       "    .dataframe thead th {\n",
       "        text-align: right;\n",
       "    }\n",
       "</style>\n",
       "<table border=\"1\" class=\"dataframe\">\n",
       "  <thead>\n",
       "    <tr style=\"text-align: right;\">\n",
       "      <th></th>\n",
       "      <th>AMZN-BABA</th>\n",
       "      <th>AMZN-HD</th>\n",
       "      <th>AMZN-TOYOY</th>\n",
       "      <th>AMZN-MCD</th>\n",
       "      <th>AMZN-NKE</th>\n",
       "      <th>AMZN-SBUX</th>\n",
       "      <th>AMZN-LOW</th>\n",
       "      <th>AMZN-PCLN</th>\n",
       "      <th>AMZN-TJX</th>\n",
       "      <th>BABA-HD</th>\n",
       "      <th>...</th>\n",
       "      <th>NKE-SBUX</th>\n",
       "      <th>NKE-LOW</th>\n",
       "      <th>NKE-PCLN</th>\n",
       "      <th>NKE-TJX</th>\n",
       "      <th>SBUX-LOW</th>\n",
       "      <th>SBUX-PCLN</th>\n",
       "      <th>SBUX-TJX</th>\n",
       "      <th>LOW-PCLN</th>\n",
       "      <th>LOW-TJX</th>\n",
       "      <th>PCLN-TJX</th>\n",
       "    </tr>\n",
       "  </thead>\n",
       "  <tbody>\n",
       "    <tr>\n",
       "      <th>0</th>\n",
       "      <td>0.008796</td>\n",
       "      <td>0.122931</td>\n",
       "      <td>0.001717</td>\n",
       "      <td>0.673388</td>\n",
       "      <td>0.000026</td>\n",
       "      <td>0.002009</td>\n",
       "      <td>0.952495</td>\n",
       "      <td>0.054052</td>\n",
       "      <td>0.003473</td>\n",
       "      <td>0.178933</td>\n",
       "      <td>...</td>\n",
       "      <td>4.721472e-08</td>\n",
       "      <td>0.051413</td>\n",
       "      <td>0.400429</td>\n",
       "      <td>2.743583e-08</td>\n",
       "      <td>0.780583</td>\n",
       "      <td>0.810531</td>\n",
       "      <td>0.000089</td>\n",
       "      <td>0.034884</td>\n",
       "      <td>0.07917</td>\n",
       "      <td>0.109935</td>\n",
       "    </tr>\n",
       "  </tbody>\n",
       "</table>\n",
       "<p>1 rows × 45 columns</p>\n",
       "</div>"
      ],
      "text/plain": [
       "   AMZN-BABA   AMZN-HD  AMZN-TOYOY  AMZN-MCD  AMZN-NKE  AMZN-SBUX  AMZN-LOW  \\\n",
       "0   0.008796  0.122931    0.001717  0.673388  0.000026   0.002009  0.952495   \n",
       "\n",
       "   AMZN-PCLN  AMZN-TJX   BABA-HD  ...      NKE-SBUX   NKE-LOW  NKE-PCLN  \\\n",
       "0   0.054052  0.003473  0.178933  ...  4.721472e-08  0.051413  0.400429   \n",
       "\n",
       "        NKE-TJX  SBUX-LOW  SBUX-PCLN  SBUX-TJX  LOW-PCLN  LOW-TJX  PCLN-TJX  \n",
       "0  2.743583e-08  0.780583   0.810531  0.000089  0.034884  0.07917  0.109935  \n",
       "\n",
       "[1 rows x 45 columns]"
      ]
     },
     "execution_count": 47,
     "metadata": {},
     "output_type": "execute_result"
    }
   ],
   "source": [
    "rank"
   ]
  },
  {
   "cell_type": "code",
   "execution_count": 48,
   "metadata": {},
   "outputs": [
    {
     "data": {
      "text/html": [
       "<div>\n",
       "<style scoped>\n",
       "    .dataframe tbody tr th:only-of-type {\n",
       "        vertical-align: middle;\n",
       "    }\n",
       "\n",
       "    .dataframe tbody tr th {\n",
       "        vertical-align: top;\n",
       "    }\n",
       "\n",
       "    .dataframe thead th {\n",
       "        text-align: right;\n",
       "    }\n",
       "</style>\n",
       "<table border=\"1\" class=\"dataframe\">\n",
       "  <thead>\n",
       "    <tr style=\"text-align: right;\">\n",
       "      <th></th>\n",
       "      <th>MCD-PCLN</th>\n",
       "      <th>NKE-TJX</th>\n",
       "      <th>NKE-SBUX</th>\n",
       "      <th>MCD-TJX</th>\n",
       "      <th>MCD-LOW</th>\n",
       "      <th>MCD-SBUX</th>\n",
       "      <th>TOYOY-LOW</th>\n",
       "      <th>AMZN-NKE</th>\n",
       "      <th>SBUX-TJX</th>\n",
       "      <th>BABA-TOYOY</th>\n",
       "      <th>...</th>\n",
       "      <th>BABA-SBUX</th>\n",
       "      <th>BABA-PCLN</th>\n",
       "      <th>AMZN-MCD</th>\n",
       "      <th>HD-TOYOY</th>\n",
       "      <th>SBUX-LOW</th>\n",
       "      <th>BABA-TJX</th>\n",
       "      <th>SBUX-PCLN</th>\n",
       "      <th>HD-SBUX</th>\n",
       "      <th>HD-NKE</th>\n",
       "      <th>AMZN-LOW</th>\n",
       "    </tr>\n",
       "  </thead>\n",
       "  <tbody>\n",
       "    <tr>\n",
       "      <th>0</th>\n",
       "      <td>2.178093e-08</td>\n",
       "      <td>2.743583e-08</td>\n",
       "      <td>4.721472e-08</td>\n",
       "      <td>7.987606e-08</td>\n",
       "      <td>1.435214e-07</td>\n",
       "      <td>2.778005e-07</td>\n",
       "      <td>0.000005</td>\n",
       "      <td>0.000026</td>\n",
       "      <td>0.000089</td>\n",
       "      <td>0.001186</td>\n",
       "      <td>...</td>\n",
       "      <td>0.437142</td>\n",
       "      <td>0.469059</td>\n",
       "      <td>0.673388</td>\n",
       "      <td>0.760581</td>\n",
       "      <td>0.780583</td>\n",
       "      <td>0.78899</td>\n",
       "      <td>0.810531</td>\n",
       "      <td>0.881789</td>\n",
       "      <td>0.948104</td>\n",
       "      <td>0.952495</td>\n",
       "    </tr>\n",
       "  </tbody>\n",
       "</table>\n",
       "<p>1 rows × 45 columns</p>\n",
       "</div>"
      ],
      "text/plain": [
       "       MCD-PCLN       NKE-TJX      NKE-SBUX       MCD-TJX       MCD-LOW  \\\n",
       "0  2.178093e-08  2.743583e-08  4.721472e-08  7.987606e-08  1.435214e-07   \n",
       "\n",
       "       MCD-SBUX  TOYOY-LOW  AMZN-NKE  SBUX-TJX  BABA-TOYOY  ...  BABA-SBUX  \\\n",
       "0  2.778005e-07   0.000005  0.000026  0.000089    0.001186  ...   0.437142   \n",
       "\n",
       "   BABA-PCLN  AMZN-MCD  HD-TOYOY  SBUX-LOW  BABA-TJX  SBUX-PCLN   HD-SBUX  \\\n",
       "0   0.469059  0.673388  0.760581  0.780583   0.78899   0.810531  0.881789   \n",
       "\n",
       "     HD-NKE  AMZN-LOW  \n",
       "0  0.948104  0.952495  \n",
       "\n",
       "[1 rows x 45 columns]"
      ]
     },
     "execution_count": 48,
     "metadata": {},
     "output_type": "execute_result"
    }
   ],
   "source": [
    "rank.sort_values(by = 0, axis = 1, ascending = True)"
   ]
  },
  {
   "cell_type": "markdown",
   "metadata": {},
   "source": [
    "## 4)Rank the stock pairs within 2) by ADF then by Bruesch-Pagan test using the historical data from 9/1/2020 to 3/1/2021"
   ]
  },
  {
   "cell_type": "code",
   "execution_count": 49,
   "metadata": {},
   "outputs": [],
   "source": [
    "universe = [\"NB\", \"CMB\", \"TRV\", \"NOB\", \"V\", \"BRKB\", \"MA\", \"PYPL\", \"MHP\", \"GS\"]\n",
    "log = pd.DataFrame()\n",
    "for symbol in universe:\n",
    "    qb.symbol = qb.AddEquity(symbol, Resolution.Daily)\n",
    "    history = qb.History(qb.symbol.Symbol, start_time, end_time, Resolution.Daily)\n",
    "    # Can also write like this: log[symbol] = history.loc[symbol].close.apply(lambda x: math.log(x))\n",
    "    log[symbol] = np.log(history.loc[symbol].close)\n",
    "rankadf = pd.DataFrame()\n",
    "rankbp = pd.DataFrame()\n",
    "for Y in universe:\n",
    "    for X in universe:\n",
    "        if universe.index(X) > universe.index(Y):\n",
    "            rankadf[Y + \"-\" + X] = pd.Series(ADF(log[X], log[Y]))\n",
    "            rankbp[Y + \"-\" + X] = pd.Series(BP(log[X], log[Y]))"
   ]
  },
  {
   "cell_type": "code",
   "execution_count": 50,
   "metadata": {},
   "outputs": [
    {
     "data": {
      "text/html": [
       "<div>\n",
       "<style scoped>\n",
       "    .dataframe tbody tr th:only-of-type {\n",
       "        vertical-align: middle;\n",
       "    }\n",
       "\n",
       "    .dataframe tbody tr th {\n",
       "        vertical-align: top;\n",
       "    }\n",
       "\n",
       "    .dataframe thead th {\n",
       "        text-align: right;\n",
       "    }\n",
       "</style>\n",
       "<table border=\"1\" class=\"dataframe\">\n",
       "  <thead>\n",
       "    <tr style=\"text-align: right;\">\n",
       "      <th></th>\n",
       "      <th>PYPL-GS</th>\n",
       "      <th>V-BRKB</th>\n",
       "      <th>MA-GS</th>\n",
       "      <th>V-GS</th>\n",
       "      <th>NB-GS</th>\n",
       "      <th>MHP-GS</th>\n",
       "      <th>MA-PYPL</th>\n",
       "      <th>BRKB-PYPL</th>\n",
       "      <th>V-PYPL</th>\n",
       "      <th>TRV-BRKB</th>\n",
       "      <th>...</th>\n",
       "      <th>CMB-V</th>\n",
       "      <th>BRKB-MHP</th>\n",
       "      <th>NOB-MA</th>\n",
       "      <th>BRKB-MA</th>\n",
       "      <th>NB-TRV</th>\n",
       "      <th>V-MA</th>\n",
       "      <th>NOB-MHP</th>\n",
       "      <th>NB-MA</th>\n",
       "      <th>TRV-MA</th>\n",
       "      <th>CMB-MA</th>\n",
       "    </tr>\n",
       "  </thead>\n",
       "  <tbody>\n",
       "    <tr>\n",
       "      <th>0</th>\n",
       "      <td>0.003392</td>\n",
       "      <td>0.008324</td>\n",
       "      <td>0.008578</td>\n",
       "      <td>0.012347</td>\n",
       "      <td>0.014754</td>\n",
       "      <td>0.015582</td>\n",
       "      <td>0.016473</td>\n",
       "      <td>0.01664</td>\n",
       "      <td>0.019429</td>\n",
       "      <td>0.028343</td>\n",
       "      <td>...</td>\n",
       "      <td>0.391925</td>\n",
       "      <td>0.406234</td>\n",
       "      <td>0.471284</td>\n",
       "      <td>0.485611</td>\n",
       "      <td>0.48917</td>\n",
       "      <td>0.499718</td>\n",
       "      <td>0.51297</td>\n",
       "      <td>0.624145</td>\n",
       "      <td>0.670625</td>\n",
       "      <td>0.687708</td>\n",
       "    </tr>\n",
       "  </tbody>\n",
       "</table>\n",
       "<p>1 rows × 45 columns</p>\n",
       "</div>"
      ],
      "text/plain": [
       "    PYPL-GS    V-BRKB     MA-GS      V-GS     NB-GS    MHP-GS   MA-PYPL  \\\n",
       "0  0.003392  0.008324  0.008578  0.012347  0.014754  0.015582  0.016473   \n",
       "\n",
       "   BRKB-PYPL    V-PYPL  TRV-BRKB  ...     CMB-V  BRKB-MHP    NOB-MA   BRKB-MA  \\\n",
       "0    0.01664  0.019429  0.028343  ...  0.391925  0.406234  0.471284  0.485611   \n",
       "\n",
       "    NB-TRV      V-MA  NOB-MHP     NB-MA    TRV-MA    CMB-MA  \n",
       "0  0.48917  0.499718  0.51297  0.624145  0.670625  0.687708  \n",
       "\n",
       "[1 rows x 45 columns]"
      ]
     },
     "execution_count": 50,
     "metadata": {},
     "output_type": "execute_result"
    }
   ],
   "source": [
    "rankadf.sort_values(by = 0, axis = 1, ascending = True)"
   ]
  },
  {
   "cell_type": "code",
   "execution_count": 51,
   "metadata": {},
   "outputs": [
    {
     "data": {
      "text/html": [
       "<div>\n",
       "<style scoped>\n",
       "    .dataframe tbody tr th:only-of-type {\n",
       "        vertical-align: middle;\n",
       "    }\n",
       "\n",
       "    .dataframe tbody tr th {\n",
       "        vertical-align: top;\n",
       "    }\n",
       "\n",
       "    .dataframe thead th {\n",
       "        text-align: right;\n",
       "    }\n",
       "</style>\n",
       "<table border=\"1\" class=\"dataframe\">\n",
       "  <thead>\n",
       "    <tr style=\"text-align: right;\">\n",
       "      <th></th>\n",
       "      <th>TRV-BRKB</th>\n",
       "      <th>TRV-NOB</th>\n",
       "      <th>TRV-GS</th>\n",
       "      <th>CMB-NOB</th>\n",
       "      <th>NB-CMB</th>\n",
       "      <th>TRV-PYPL</th>\n",
       "      <th>BRKB-PYPL</th>\n",
       "      <th>CMB-BRKB</th>\n",
       "      <th>CMB-GS</th>\n",
       "      <th>NB-NOB</th>\n",
       "      <th>...</th>\n",
       "      <th>NB-MHP</th>\n",
       "      <th>BRKB-MHP</th>\n",
       "      <th>CMB-MHP</th>\n",
       "      <th>V-MA</th>\n",
       "      <th>CMB-V</th>\n",
       "      <th>NB-TRV</th>\n",
       "      <th>PYPL-MHP</th>\n",
       "      <th>NB-V</th>\n",
       "      <th>NOB-PYPL</th>\n",
       "      <th>MHP-GS</th>\n",
       "    </tr>\n",
       "  </thead>\n",
       "  <tbody>\n",
       "    <tr>\n",
       "      <th>0</th>\n",
       "      <td>2.155300e-19</td>\n",
       "      <td>1.249350e-17</td>\n",
       "      <td>3.365456e-13</td>\n",
       "      <td>1.266615e-09</td>\n",
       "      <td>3.991781e-08</td>\n",
       "      <td>4.116896e-07</td>\n",
       "      <td>0.000002</td>\n",
       "      <td>0.000066</td>\n",
       "      <td>0.000145</td>\n",
       "      <td>0.000206</td>\n",
       "      <td>...</td>\n",
       "      <td>0.427577</td>\n",
       "      <td>0.485111</td>\n",
       "      <td>0.521998</td>\n",
       "      <td>0.527598</td>\n",
       "      <td>0.614835</td>\n",
       "      <td>0.717765</td>\n",
       "      <td>0.752811</td>\n",
       "      <td>0.91369</td>\n",
       "      <td>0.921253</td>\n",
       "      <td>0.965956</td>\n",
       "    </tr>\n",
       "  </tbody>\n",
       "</table>\n",
       "<p>1 rows × 45 columns</p>\n",
       "</div>"
      ],
      "text/plain": [
       "       TRV-BRKB       TRV-NOB        TRV-GS       CMB-NOB        NB-CMB  \\\n",
       "0  2.155300e-19  1.249350e-17  3.365456e-13  1.266615e-09  3.991781e-08   \n",
       "\n",
       "       TRV-PYPL  BRKB-PYPL  CMB-BRKB    CMB-GS    NB-NOB  ...    NB-MHP  \\\n",
       "0  4.116896e-07   0.000002  0.000066  0.000145  0.000206  ...  0.427577   \n",
       "\n",
       "   BRKB-MHP   CMB-MHP      V-MA     CMB-V    NB-TRV  PYPL-MHP     NB-V  \\\n",
       "0  0.485111  0.521998  0.527598  0.614835  0.717765  0.752811  0.91369   \n",
       "\n",
       "   NOB-PYPL    MHP-GS  \n",
       "0  0.921253  0.965956  \n",
       "\n",
       "[1 rows x 45 columns]"
      ]
     },
     "execution_count": 51,
     "metadata": {},
     "output_type": "execute_result"
    }
   ],
   "source": [
    "rankbp.sort_values(by = 0, axis = 1, ascending = True)"
   ]
  },
  {
   "cell_type": "markdown",
   "metadata": {},
   "source": [
    "## Scratchwork"
   ]
  },
  {
   "cell_type": "code",
   "execution_count": 69,
   "metadata": {},
   "outputs": [],
   "source": [
    "log"
   ]
  },
  {
   "cell_type": "code",
   "execution_count": 70,
   "metadata": {},
   "outputs": [],
   "source": [
    "log.shape"
   ]
  },
  {
   "cell_type": "code",
   "execution_count": 71,
   "metadata": {},
   "outputs": [],
   "source": [
    "log_diff"
   ]
  },
  {
   "cell_type": "code",
   "execution_count": 95,
   "metadata": {},
   "outputs": [],
   "source": [
    "pd.Series(log_diff[\"AMZN\"].autocorr(1))"
   ]
  },
  {
   "cell_type": "code",
   "execution_count": 96,
   "metadata": {},
   "outputs": [],
   "source": [
    "rho[\"AMZN\"] = pd.Series(log_diff[\"AMZN\"].autocorr(1))"
   ]
  },
  {
   "cell_type": "code",
   "execution_count": 97,
   "metadata": {},
   "outputs": [],
   "source": [
    "rho"
   ]
  },
  {
   "cell_type": "code",
   "execution_count": 73,
   "metadata": {},
   "outputs": [],
   "source": [
    "log_diff[\"AMZN\"]"
   ]
  },
  {
   "cell_type": "code",
   "execution_count": null,
   "metadata": {},
   "outputs": [],
   "source": []
  },
  {
   "cell_type": "code",
   "execution_count": null,
   "metadata": {},
   "outputs": [],
   "source": []
  },
  {
   "cell_type": "code",
   "execution_count": null,
   "metadata": {},
   "outputs": [],
   "source": []
  }
 ],
 "metadata": {
  "kernelspec": {
   "display_name": "Python 3",
   "language": "python",
   "name": "python3"
  },
  "language_info": {
   "codemirror_mode": {
    "name": "ipython",
    "version": 3
   },
   "file_extension": ".py",
   "mimetype": "text/x-python",
   "name": "python",
   "nbconvert_exporter": "python",
   "pygments_lexer": "ipython3",
   "version": "3.6.8"
  }
 },
 "nbformat": 4,
 "nbformat_minor": 2
}
