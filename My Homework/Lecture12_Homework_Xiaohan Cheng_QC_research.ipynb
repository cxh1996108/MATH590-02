{
 "cells": [
  {
   "cell_type": "markdown",
   "metadata": {},
   "source": [
    "![QuantConnect Logo](https://cdn.quantconnect.com/web/i/icon.png)\n",
    "<hr>"
   ]
  },
  {
   "cell_type": "code",
   "execution_count": 1,
   "metadata": {},
   "outputs": [],
   "source": [
    "# QuantBook Analysis Tool \n",
    "# For more information see [https://www.quantconnect.com/docs/research/overview]\n",
    "qb = QuantBook()\n",
    "import numpy as np\n",
    "import pandas as pd\n",
    "from scipy import stats\n",
    "import matplotlib.pyplot as plt\n",
    "#import statsmodels\n",
    "#import statsmodels.api as sm\n",
    "#from statsmodels.tsa.stattools import coint, adfuller\n",
    "#from statsmodels import regression,stats\n",
    "import math\n",
    "import datetime \n",
    "import statsmodels.formula.api as smf \n",
    "from datetime import date, time, datetime, timedelta\n",
    "#from xml.etree import ElementTree as ET\n",
    "#from IPython.core.debugger import set_trace\n",
    "import seaborn as sns\n",
    "import random\n",
    "from ta import add_all_ta_features\n",
    "from ta.utils import dropna\n",
    "from ta.trend import *"
   ]
  },
  {
   "cell_type": "code",
   "execution_count": 2,
   "metadata": {},
   "outputs": [],
   "source": [
    "# Using 90-day lookback history to calculate VaR\n",
    "# The start date is 9/24/2019 because we have 62 trading days betweetn 2/1/2020 and 5/1/2020.\n",
    "# 90 + 62 = 152\n",
    "# 152 trading days between 9/24/2019 and 5/1/2020\n",
    "start_time = datetime(2019, 9, 24) # start datetime for history call\n",
    "end_time = datetime(2020, 5, 1) # end datetime for history call"
   ]
  },
  {
   "cell_type": "code",
   "execution_count": 3,
   "metadata": {},
   "outputs": [],
   "source": [
    "gs = qb.AddEquity(\"GS\", Resolution.Daily)\n",
    "ms = qb.AddEquity(\"MS\", Resolution.Daily)\n",
    "aapl = qb.AddEquity(\"AAPL\", Resolution.Daily)\n",
    "msft = qb.AddEquity(\"MSFT\", Resolution.Daily)\n",
    "symbol = [\"GS\", \"MS\", \"AAPL\", \"MSFT\"]\n",
    "history = qb.History(qb.Securities.Keys, start_time, end_time, Resolution.Daily)"
   ]
  },
  {
   "cell_type": "code",
   "execution_count": 5,
   "metadata": {},
   "outputs": [],
   "source": [
    "df = history['close'].unstack(level=0)"
   ]
  },
  {
   "cell_type": "code",
   "execution_count": 6,
   "metadata": {},
   "outputs": [],
   "source": [
    "df.shape # 62 + 90 = 152"
   ]
  },
  {
   "cell_type": "code",
   "execution_count": 7,
   "metadata": {},
   "outputs": [],
   "source": [
    "df"
   ]
  },
  {
   "cell_type": "code",
   "execution_count": 26,
   "metadata": {},
   "outputs": [],
   "source": [
    "df1 = history.loc[\"GS\"]\n",
    "df2 = history.loc[\"MS\"]\n",
    "df3 = history.loc[\"AAPL\"]\n",
    "df4 = history.loc[\"MSFT\"]\n",
    "df1\n",
    "a = pd.DataFrame()\n",
    "a['X'] = df1[\"close\"]\n",
    "a['Y'] = df2[\"close\"]\n",
    "a"
   ]
  },
  {
   "cell_type": "code",
   "execution_count": 23,
   "metadata": {},
   "outputs": [],
   "source": [
    "d1 = pd.DataFrame()\n",
    "d1[\"GS\"] = df1['close']\n",
    "d1[]\n"
   ]
  },
  {
   "cell_type": "code",
   "execution_count": 8,
   "metadata": {},
   "outputs": [],
   "source": [
    "df1"
   ]
  },
  {
   "cell_type": "code",
   "execution_count": 9,
   "metadata": {},
   "outputs": [],
   "source": [
    "df1['log'] = df1['close'].apply(lambda x: math.log(x))\n",
    "df2['log'] = df2['close'].apply(lambda x: math.log(x))\n",
    "df3['log'] = df3['close'].apply(lambda x: math.log(x))\n",
    "df4['log'] = df4['close'].apply(lambda x: math.log(x))"
   ]
  },
  {
   "cell_type": "code",
   "execution_count": 10,
   "metadata": {},
   "outputs": [],
   "source": [
    "df1['log_diff'] = df1['log'] - df2['log']\n",
    "df3['log_diff'] = df3['log'] - df4['log']\n",
    "df1"
   ]
  },
  {
   "cell_type": "code",
   "execution_count": 32,
   "metadata": {},
   "outputs": [],
   "source": [
    "Z = pd.DataFrame()\n",
    "Z = df1['log'] - df2['log']\n",
    "Z\n",
    "Z[0]"
   ]
  },
  {
   "cell_type": "code",
   "execution_count": 23,
   "metadata": {},
   "outputs": [],
   "source": [
    "np.sqrt(Z['spread'])"
   ]
  },
  {
   "cell_type": "code",
   "execution_count": 62,
   "metadata": {},
   "outputs": [],
   "source": [
    "df1['log_diff']"
   ]
  },
  {
   "cell_type": "code",
   "execution_count": null,
   "metadata": {},
   "outputs": [],
   "source": []
  },
  {
   "cell_type": "code",
   "execution_count": 63,
   "metadata": {},
   "outputs": [],
   "source": [
    "slope, intercept, r_value, p_value, std_err = stats.linregress(df2['log'],df1['log'])\n",
    "\n",
    "plt.figure(figsize=(16, 7))\n",
    "p= sns.regplot(x = df2['log'], y = df1['log'], color = 'navy',\n",
    "            line_kws={'label':\"y={0:.1f}x+{1:.1f}\".format(slope,intercept)})\n",
    "print(\" Hedge Ratio = Slope of the Linear Regression Equation: Y = \" + str('{:.2f}'.format(slope))+ \" X + \" + str('{:.2f}'.format(intercept)))"
   ]
  },
  {
   "cell_type": "code",
   "execution_count": 65,
   "metadata": {},
   "outputs": [],
   "source": [
    "df1['W'] = df1['log'] - slope * df2['log']\n",
    "df1['W'].plot(figsize = [16,7], title ='LnP - hedge ratio * LnQ', legend = True)"
   ]
  },
  {
   "cell_type": "code",
   "execution_count": 67,
   "metadata": {},
   "outputs": [],
   "source": [
    "sigma = np.std(df1['W'])\n",
    "mu = df1['W'].mean()\n",
    "df1['μ+σ'] = mu + sigma\n",
    "df1['μ-σ'] = mu - sigma\n",
    "df1['W'].plot(figsize = [16,7], title ='LnP - hedge ratio * LnQ', legend = True)\n",
    "df1['μ+σ'].plot(figsize = [16,7], linestyle = ':', legend = True)\n",
    "df1['μ-σ'].plot(figsize = [16,7], linestyle = ':', legend = True)"
   ]
  },
  {
   "cell_type": "code",
   "execution_count": 134,
   "metadata": {},
   "outputs": [],
   "source": [
    "cash = 100000\n",
    "margin = 0.3\n",
    "df1.shape[0]\n",
    "PnL = pd.DataFrame(index = df1.index, columns = [\"PnL\", \"pos1\", \"pos2\"])"
   ]
  },
  {
   "cell_type": "code",
   "execution_count": 135,
   "metadata": {},
   "outputs": [],
   "source": [
    "PnL.iloc[[1]]"
   ]
  },
  {
   "cell_type": "code",
   "execution_count": 202,
   "metadata": {},
   "outputs": [],
   "source": [
    "flag = 0 # flag = 1 means we already enter, flag = 0 means we don't have position\n",
    "for i in range(df1.shape[0]):\n",
    "    if flag == 0:\n",
    "        # portfolio weights for ticker1 and ticker2\n",
    "        wt1 = 1/(1 + slope)\n",
    "        wt2 = slope/(1 + slope)\n",
    "        pos1 = round(wt1 * cash/(df1.close[i] * margin))\n",
    "        pos2 = round(wt2 * cash/(df2.close[i] * margin))\n",
    "        # When W > μ+σ, long Q and short P\n",
    "        if df1['W'][i] > df1['μ+σ'][i]:\n",
    "            PnL.iloc[i][\"PnL\"] = df2.close[i] * pos2 - df1.close[i] * pos1\n",
    "            PnL.iloc[i][\"pos1\"] = -pos1\n",
    "            PnL.iloc[i][\"pos2\"] = pos2\n",
    "            flag = 1 # indicate we already enter\n",
    "        # When W < μ-σ, long P and short Q\n",
    "        elif df1['W'][i] < df1['μ-σ'][i]:\n",
    "            PnL.iloc[i][\"PnL\"] = df1.close[i] * pos1 - df2.close[i] * pos2\n",
    "            PnL.iloc[i][\"pos1\"] = pos1\n",
    "            PnL.iloc[i][\"pos2\"] = -pos2\n",
    "            flag = 1 # indicate we already enter\n",
    "    \n",
    "    elif flag == 1:\n",
    "        # When W = μ, Liquidate all the positions\n",
    "        if abs(df1['W'][i] - mu) < 0.001:\n",
    "            PnL.iloc[i][\"PnL\"] = 0\n",
    "            PnL.iloc[i][\"pos1\"] = 0\n",
    "            PnL.iloc[i][\"pos2\"] = 0\n",
    "            flag = 0 # indicate we already exit\n",
    "        else: # We hold our positions\n",
    "            PnL.iloc[i][\"pos1\"] = PnL.iloc[i-1][\"pos1\"]\n",
    "            PnL.iloc[i][\"pos2\"] = PnL.iloc[i-1][\"pos2\"]\n",
    "            if PnL.iloc[i-1][\"pos2\"] > 0:\n",
    "                PnL.iloc[i][\"PnL\"] = df2.close[i] * PnL.iloc[i][\"pos2\"] - PnL.iloc[i][\"pos1\"] * PnL.iloc[i][\"pos1\"]\n",
    "            else:\n",
    "                PnL.iloc[i][\"PnL\"] = df1.close[i] * PnL.iloc[i][\"pos1\"] - df2.close[i] * PnL.iloc[i][\"pos2\"]\n",
    "    "
   ]
  },
  {
   "cell_type": "code",
   "execution_count": 203,
   "metadata": {},
   "outputs": [],
   "source": [
    "print(PnL)"
   ]
  },
  {
   "cell_type": "code",
   "execution_count": 204,
   "metadata": {},
   "outputs": [],
   "source": [
    "PnL[\"PnL\"].plot(figsize = [16,7], x = 'date', marker = \"*\")\n"
   ]
  },
  {
   "cell_type": "code",
   "execution_count": 205,
   "metadata": {},
   "outputs": [],
   "source": [
    "port_n = PnL.PnL-PnL.PnL.shift(1)\n",
    "port_n.hist(figsize = [16,7], bins =30)\n",
    "#port_n is the change in portfolio values between n days."
   ]
  },
  {
   "cell_type": "code",
   "execution_count": 206,
   "metadata": {},
   "outputs": [],
   "source": [
    "port_n.plot(figsize = [16,7], x = 'date', marker = \"*\")"
   ]
  },
  {
   "cell_type": "code",
   "execution_count": 207,
   "metadata": {},
   "outputs": [],
   "source": [
    "port_n"
   ]
  },
  {
   "cell_type": "code",
   "execution_count": 212,
   "metadata": {},
   "outputs": [],
   "source": [
    "VaR = pd.DataFrame(index = df1.index, columns = [\"VaR\"])[89:]\n",
    "VaR"
   ]
  },
  {
   "cell_type": "code",
   "execution_count": 218,
   "metadata": {},
   "outputs": [],
   "source": [
    "alpha = 0.95 # confidence interval\n",
    "for i in range(63):\n",
    "    port = pd.DataFrame(data = port_n[i:89 + i])\n",
    "    port['pct_rank'] = port.rank(pct = True)\n",
    "    pct_n = port[port.pct_rank < 1-alpha] # Find the tail distribution\n",
    "    var_n= pct_n.PnL.max() # the cut off point is the VaR\n",
    "    avg_var_n = pct_n.PnL.mean() # average of the tail is tail var\n",
    "    sum_t = (pct_n['pct_rank']).sum()\n",
    "    VaR.iloc[i] = var_n\n",
    "    print(pct_n)\n",
    "    print(var_n)"
   ]
  },
  {
   "cell_type": "code",
   "execution_count": 221,
   "metadata": {},
   "outputs": [],
   "source": [
    "VaR"
   ]
  },
  {
   "cell_type": "code",
   "execution_count": null,
   "metadata": {},
   "outputs": [],
   "source": []
  }
 ],
 "metadata": {
  "kernelspec": {
   "display_name": "Python 3",
   "language": "python",
   "name": "python3"
  },
  "language_info": {
   "codemirror_mode": {
    "name": "ipython",
    "version": 3
   },
   "file_extension": ".py",
   "mimetype": "text/x-python",
   "name": "python",
   "nbconvert_exporter": "python",
   "pygments_lexer": "ipython3",
   "version": "3.6.8"
  }
 },
 "nbformat": 4,
 "nbformat_minor": 2
}
