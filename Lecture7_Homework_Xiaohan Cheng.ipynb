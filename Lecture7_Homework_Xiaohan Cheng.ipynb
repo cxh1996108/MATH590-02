{
 "cells": [
  {
   "cell_type": "code",
   "execution_count": 20,
   "metadata": {},
   "outputs": [
    {
     "data": {
      "text/plain": [
       "<IB connected to 127.0.0.1:7497 clientId=33>"
      ]
     },
     "execution_count": 20,
     "metadata": {},
     "output_type": "execute_result"
    }
   ],
   "source": [
    "from ib_insync import *\n",
    "util.startLoop()\n",
    "\n",
    "ib = IB()\n",
    "ib.connect('127.0.0.1', 7497, clientId = 33)"
   ]
  },
  {
   "cell_type": "code",
   "execution_count": 21,
   "metadata": {},
   "outputs": [
    {
     "data": {
      "text/plain": [
       "[]"
      ]
     },
     "execution_count": 21,
     "metadata": {},
     "output_type": "execute_result"
    },
    {
     "name": "stderr",
     "output_type": "stream",
     "text": [
      "Peer closed connection\n"
     ]
    }
   ],
   "source": [
    "ib.portfolio()"
   ]
  },
  {
   "cell_type": "code",
   "execution_count": 2,
   "metadata": {},
   "outputs": [],
   "source": [
    "# Place a market order of 100 shares of GOOG\n",
    "contract = Stock('GOOG', 'SMART', 'USD')\n",
    "ib.qualifyContracts(contract)\n",
    "\n",
    "order = MarketOrder('BUY', 100)"
   ]
  },
  {
   "cell_type": "code",
   "execution_count": 3,
   "metadata": {},
   "outputs": [
    {
     "data": {
      "text/plain": [
       "Trade(contract=Stock(conId=208813720, symbol='GOOG', exchange='SMART', primaryExchange='NASDAQ', currency='USD', localSymbol='GOOG', tradingClass='NMS'), order=MarketOrder(orderId=26, clientId=13, action='BUY', totalQuantity=100), orderStatus=OrderStatus(orderId=26, status='PendingSubmit', filled=0, remaining=0, avgFillPrice=0.0, permId=0, parentId=0, lastFillPrice=0.0, clientId=0, whyHeld='', mktCapPrice=0.0), fills=[], log=[TradeLogEntry(time=datetime.datetime(2021, 2, 17, 21, 15, 56, 334333, tzinfo=datetime.timezone.utc), status='PendingSubmit', message='')])"
      ]
     },
     "execution_count": 3,
     "metadata": {},
     "output_type": "execute_result"
    }
   ],
   "source": [
    "trade = ib.placeOrder(contract, order)\n",
    "trade"
   ]
  },
  {
   "cell_type": "code",
   "execution_count": 4,
   "metadata": {},
   "outputs": [
    {
     "data": {
      "text/plain": [
       "[TradeLogEntry(time=datetime.datetime(2021, 2, 17, 15, 35, 15, 65198, tzinfo=datetime.timezone.utc), status='PendingSubmit', message=''),\n",
       " TradeLogEntry(time=datetime.datetime(2021, 2, 17, 15, 35, 15, 679433, tzinfo=datetime.timezone.utc), status='Submitted', message=''),\n",
       " TradeLogEntry(time=datetime.datetime(2021, 2, 17, 15, 35, 15, 740566, tzinfo=datetime.timezone.utc), status='Submitted', message='Fill 100.0@2115.0'),\n",
       " TradeLogEntry(time=datetime.datetime(2021, 2, 17, 15, 35, 15, 741568, tzinfo=datetime.timezone.utc), status='Filled', message='')]"
      ]
     },
     "execution_count": 4,
     "metadata": {},
     "output_type": "execute_result"
    }
   ],
   "source": [
    "ib.sleep(1)\n",
    "trade.log"
   ]
  },
  {
   "cell_type": "code",
   "execution_count": 5,
   "metadata": {},
   "outputs": [],
   "source": [
    "assert trade in ib.trades()"
   ]
  },
  {
   "cell_type": "code",
   "execution_count": 6,
   "metadata": {},
   "outputs": [],
   "source": [
    "assert order in ib.orders()"
   ]
  },
  {
   "cell_type": "code",
   "execution_count": 3,
   "metadata": {},
   "outputs": [
    {
     "data": {
      "text/plain": [
       "datetime.datetime(2021, 2, 18, 5, 16, 44, 185733)"
      ]
     },
     "execution_count": 3,
     "metadata": {},
     "output_type": "execute_result"
    }
   ],
   "source": [
    "import datetime\n",
    "datetime.datetime.now()"
   ]
  },
  {
   "cell_type": "code",
   "execution_count": 4,
   "metadata": {},
   "outputs": [
    {
     "data": {
      "text/plain": [
       "datetime.datetime(2021, 2, 15, 10, 0)"
      ]
     },
     "execution_count": 4,
     "metadata": {},
     "output_type": "execute_result"
    }
   ],
   "source": [
    "starttime = datetime.datetime(2021, 2, 15, 10, 0, 0)\n",
    "starttime"
   ]
  },
  {
   "cell_type": "code",
   "execution_count": null,
   "metadata": {},
   "outputs": [],
   "source": [
    "# A) Place 10 market orders in 10 minutes increment starting at 10:00am in a given day, with each order to buy 10 shares of GOOG.\n",
    "\n",
    "# Write a dead loop, a slippage will occur.\n",
    "i = 0\n",
    "while True:\n",
    "    if datetime.datetime.now() == (starttime + i * datetime.timedelta(minutes = 10)):\n",
    "        order = MarketOrder('BUY', 10)\n",
    "        trade = ib.placeOrder(contract, order)\n",
    "        trade\n",
    "        i = i + 1\n",
    "    if (i == 10):\n",
    "        break\n",
    "# B) Place the same amount of sell orders to flatten out your positions.\n",
    "order = MarketOrder('SELL', 100)\n",
    "trade = ib.placeOrder(contract, order)\n",
    "trade  \n",
    "\n",
    "    \n",
    "# Another way is using ib.sleep().\n",
    "td = datetime.now()\n",
    "i = 0\n",
    "if [td.hour, td.minute] == [10, 0]:\n",
    "    while(i < 10):\n",
    "        order = MarketOrder('BUY', 10)\n",
    "        ib.placeOrder(contract, order)\n",
    "        i = i + 1\n",
    "        ib.sleep(600) # 60 seconds * 10 = 600 seconds\n",
    "        print(\"placing\", i, \"-th order\")"
   ]
  },
  {
   "cell_type": "code",
   "execution_count": 9,
   "metadata": {},
   "outputs": [
    {
     "name": "stdout",
     "output_type": "stream",
     "text": [
      "2129.75\n"
     ]
    }
   ],
   "source": [
    "lmtPrice = ib.reqMktData(contract, 221)\n",
    "print(lmtPrice.markPrice)"
   ]
  },
  {
   "cell_type": "code",
   "execution_count": 11,
   "metadata": {},
   "outputs": [
    {
     "data": {
      "text/plain": [
       "[Position(account='DU3225639', contract=Stock(conId=208813720, symbol='GOOG', exchange='NASDAQ', currency='USD', localSymbol='GOOG', tradingClass='NMS'), position=0.0, avgCost=0.0)]"
      ]
     },
     "execution_count": 11,
     "metadata": {},
     "output_type": "execute_result"
    }
   ],
   "source": [
    "ib.reqPositions()"
   ]
  },
  {
   "cell_type": "code",
   "execution_count": null,
   "metadata": {},
   "outputs": [],
   "source": [
    "# You believe the price of GOOG is going down from here. So, you would like to place limit orders to buy as price drops. \n",
    "# Specifically, you would like to buy 20 shares of GOOG for every price drop of 0.50% from the previous limit price, \n",
    "# but you want to cap the maximal shares to hold at 100 shares.\n",
    "\n",
    "lmtPrice = ib.reqMktData(contract, 221).markPrice\n",
    "num = 0\n",
    "while num <= 100:\n",
    "    limitOrder = LimitOrder('BUY', 20, lmtPrice)\n",
    "    limitTrade = ib.placeOrder(contract, limitOrder)\n",
    "    lmtPrice = (1-0.005) * lmtPrice\n",
    "    num = num + 20\n"
   ]
  }
 ],
 "metadata": {
  "kernelspec": {
   "display_name": "Python 3",
   "language": "python",
   "name": "python3"
  },
  "language_info": {
   "codemirror_mode": {
    "name": "ipython",
    "version": 3
   },
   "file_extension": ".py",
   "mimetype": "text/x-python",
   "name": "python",
   "nbconvert_exporter": "python",
   "pygments_lexer": "ipython3",
   "version": "3.7.0"
  }
 },
 "nbformat": 4,
 "nbformat_minor": 2
}
