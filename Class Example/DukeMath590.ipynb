{
 "cells": [
  {
   "cell_type": "markdown",
   "metadata": {},
   "source": [
    "# Bar data"
   ]
  },
  {
   "cell_type": "code",
   "execution_count": 118,
   "metadata": {},
   "outputs": [],
   "source": [
    "from ib_insync import *\n",
    "import numpy as np\n",
    "import pandas as pd\n",
    "from scipy import stats\n",
    "import matplotlib.pyplot as plt\n",
    "import statsmodels\n",
    "import statsmodels.api as sm\n",
    "from statsmodels.tsa.stattools import coint, adfuller\n",
    "from statsmodels import regression,stats\n",
    "import math\n",
    "import datetime \n",
    "import statsmodels.formula.api as smf \n",
    "from datetime import date, time, datetime, timedelta\n",
    "#from xml.etree import ElementTree as ET\n",
    "from IPython.core.debugger import set_trace\n",
    "import seaborn as sns"
   ]
  },
  {
   "cell_type": "code",
   "execution_count": 120,
   "metadata": {},
   "outputs": [
    {
     "data": {
      "text/plain": [
       "<IB connected to 127.0.0.1:7497 clientId=865>"
      ]
     },
     "execution_count": 120,
     "metadata": {},
     "output_type": "execute_result"
    }
   ],
   "source": [
    "# Connect to IB Server\n",
    "ib=IB()\n",
    "util.startLoop()\n",
    "ib.connect('127.0.0.1',7497, clientId= 865)"
   ]
  },
  {
   "cell_type": "code",
   "execution_count": 121,
   "metadata": {},
   "outputs": [
    {
     "data": {
      "text/plain": [
       "[Contract(secType='STK', conId=36285627, symbol='GME', exchange='SMART', primaryExchange='NYSE', currency='USD', localSymbol='GME', tradingClass='GME')]"
      ]
     },
     "execution_count": 121,
     "metadata": {},
     "output_type": "execute_result"
    }
   ],
   "source": [
    "# find a stock contract and fully qualify it with all the attributes\n",
    "ticker ='SPY'\n",
    "ticker1 = 'GME'\n",
    "\n",
    "contract = Contract(symbol = ticker, secType = 'STK', exchange = 'SMART',currency = 'USD')\n",
    "ib.qualifyContracts(contract)\n",
    "\n",
    "contract1 = Contract(symbol = ticker1, secType = 'STK', exchange = 'SMART',currency = 'USD')\n",
    "ib.qualifyContracts(contract1)"
   ]
  },
  {
   "cell_type": "code",
   "execution_count": 122,
   "metadata": {},
   "outputs": [
    {
     "name": "stderr",
     "output_type": "stream",
     "text": [
      "Peer closed connection\n"
     ]
    }
   ],
   "source": [
    "#Grab price and volume data from IB\n",
    "\n",
    "bar = ib.reqHistoricalData(\n",
    "        contract,\n",
    "        endDateTime='',\n",
    "        durationStr='1 Y',\n",
    "        barSizeSetting='1 day',\n",
    "        whatToShow='Trades',\n",
    "        useRTH=True,\n",
    "        formatDate=1)\n"
   ]
  },
  {
   "cell_type": "code",
   "execution_count": 110,
   "metadata": {},
   "outputs": [
    {
     "data": {
      "text/html": [
       "<div>\n",
       "<style scoped>\n",
       "    .dataframe tbody tr th:only-of-type {\n",
       "        vertical-align: middle;\n",
       "    }\n",
       "\n",
       "    .dataframe tbody tr th {\n",
       "        vertical-align: top;\n",
       "    }\n",
       "\n",
       "    .dataframe thead th {\n",
       "        text-align: right;\n",
       "    }\n",
       "</style>\n",
       "<table border=\"1\" class=\"dataframe\">\n",
       "  <thead>\n",
       "    <tr style=\"text-align: right;\">\n",
       "      <th></th>\n",
       "      <th>date</th>\n",
       "      <th>open</th>\n",
       "      <th>high</th>\n",
       "      <th>low</th>\n",
       "      <th>close</th>\n",
       "      <th>volume</th>\n",
       "      <th>average</th>\n",
       "      <th>barCount</th>\n",
       "    </tr>\n",
       "  </thead>\n",
       "  <tbody>\n",
       "    <tr>\n",
       "      <th>0</th>\n",
       "      <td>2020-02-04</td>\n",
       "      <td>328.07</td>\n",
       "      <td>330.01</td>\n",
       "      <td>327.72</td>\n",
       "      <td>329.06</td>\n",
       "      <td>401199</td>\n",
       "      <td>329.1695</td>\n",
       "      <td>196897</td>\n",
       "    </tr>\n",
       "    <tr>\n",
       "      <th>1</th>\n",
       "      <td>2020-02-05</td>\n",
       "      <td>332.27</td>\n",
       "      <td>333.09</td>\n",
       "      <td>330.67</td>\n",
       "      <td>332.86</td>\n",
       "      <td>432226</td>\n",
       "      <td>332.0285</td>\n",
       "      <td>219838</td>\n",
       "    </tr>\n",
       "    <tr>\n",
       "      <th>2</th>\n",
       "      <td>2020-02-06</td>\n",
       "      <td>333.92</td>\n",
       "      <td>334.19</td>\n",
       "      <td>332.80</td>\n",
       "      <td>333.98</td>\n",
       "      <td>300233</td>\n",
       "      <td>333.7005</td>\n",
       "      <td>148356</td>\n",
       "    </tr>\n",
       "    <tr>\n",
       "      <th>3</th>\n",
       "      <td>2020-02-07</td>\n",
       "      <td>332.82</td>\n",
       "      <td>333.62</td>\n",
       "      <td>331.60</td>\n",
       "      <td>332.20</td>\n",
       "      <td>382175</td>\n",
       "      <td>332.5325</td>\n",
       "      <td>179203</td>\n",
       "    </tr>\n",
       "    <tr>\n",
       "      <th>4</th>\n",
       "      <td>2020-02-10</td>\n",
       "      <td>331.23</td>\n",
       "      <td>334.72</td>\n",
       "      <td>331.19</td>\n",
       "      <td>334.68</td>\n",
       "      <td>290189</td>\n",
       "      <td>333.3230</td>\n",
       "      <td>135475</td>\n",
       "    </tr>\n",
       "  </tbody>\n",
       "</table>\n",
       "</div>"
      ],
      "text/plain": [
       "         date    open    high     low   close  volume   average  barCount\n",
       "0  2020-02-04  328.07  330.01  327.72  329.06  401199  329.1695    196897\n",
       "1  2020-02-05  332.27  333.09  330.67  332.86  432226  332.0285    219838\n",
       "2  2020-02-06  333.92  334.19  332.80  333.98  300233  333.7005    148356\n",
       "3  2020-02-07  332.82  333.62  331.60  332.20  382175  332.5325    179203\n",
       "4  2020-02-10  331.23  334.72  331.19  334.68  290189  333.3230    135475"
      ]
     },
     "execution_count": 110,
     "metadata": {},
     "output_type": "execute_result"
    }
   ],
   "source": [
    "#Convert the bar data into pandas frame\n",
    "\n",
    "df = util.df(bar) # last trade\n",
    "#check the top 5 rows\n",
    "df.head()\n",
    "#bar data "
   ]
  },
  {
   "cell_type": "markdown",
   "metadata": {},
   "source": [
    "These is called bar data: each rows corresponds to a bar of price range within a given time interval."
   ]
  },
  {
   "cell_type": "code",
   "execution_count": 111,
   "metadata": {},
   "outputs": [],
   "source": [
    "# we can also get bid or ask price\n",
    "bar_bid = ib.reqHistoricalData(\n",
    "        contract,\n",
    "        endDateTime='',\n",
    "        durationStr='1 Y',\n",
    "        barSizeSetting='1 day',\n",
    "        whatToShow='BID',\n",
    "        useRTH=True,\n",
    "        formatDate=1)\n",
    "\n",
    "bar_ask = ib.reqHistoricalData(\n",
    "        contract,\n",
    "        endDateTime='',\n",
    "        durationStr='1 Y',\n",
    "        barSizeSetting='1 day',\n",
    "        whatToShow='ASK',\n",
    "        useRTH=True,\n",
    "        formatDate=1)\n",
    "\n",
    "df_bid = util.df(bar_bid)\n",
    "df_ask = util.df(bar_ask)"
   ]
  },
  {
   "cell_type": "code",
   "execution_count": 112,
   "metadata": {},
   "outputs": [
    {
     "data": {
      "text/html": [
       "<div>\n",
       "<style scoped>\n",
       "    .dataframe tbody tr th:only-of-type {\n",
       "        vertical-align: middle;\n",
       "    }\n",
       "\n",
       "    .dataframe tbody tr th {\n",
       "        vertical-align: top;\n",
       "    }\n",
       "\n",
       "    .dataframe thead th {\n",
       "        text-align: right;\n",
       "    }\n",
       "</style>\n",
       "<table border=\"1\" class=\"dataframe\">\n",
       "  <thead>\n",
       "    <tr style=\"text-align: right;\">\n",
       "      <th></th>\n",
       "      <th>date</th>\n",
       "      <th>open</th>\n",
       "      <th>high</th>\n",
       "      <th>low</th>\n",
       "      <th>close</th>\n",
       "      <th>volume</th>\n",
       "      <th>average</th>\n",
       "      <th>barCount</th>\n",
       "    </tr>\n",
       "  </thead>\n",
       "  <tbody>\n",
       "    <tr>\n",
       "      <th>0</th>\n",
       "      <td>2020-02-04</td>\n",
       "      <td>328.07</td>\n",
       "      <td>330.00</td>\n",
       "      <td>327.72</td>\n",
       "      <td>329.07</td>\n",
       "      <td>-1</td>\n",
       "      <td>-1.0</td>\n",
       "      <td>-1</td>\n",
       "    </tr>\n",
       "    <tr>\n",
       "      <th>1</th>\n",
       "      <td>2020-02-05</td>\n",
       "      <td>332.26</td>\n",
       "      <td>333.08</td>\n",
       "      <td>330.67</td>\n",
       "      <td>332.82</td>\n",
       "      <td>-1</td>\n",
       "      <td>-1.0</td>\n",
       "      <td>-1</td>\n",
       "    </tr>\n",
       "    <tr>\n",
       "      <th>2</th>\n",
       "      <td>2020-02-06</td>\n",
       "      <td>333.92</td>\n",
       "      <td>334.19</td>\n",
       "      <td>332.80</td>\n",
       "      <td>333.96</td>\n",
       "      <td>-1</td>\n",
       "      <td>-1.0</td>\n",
       "      <td>-1</td>\n",
       "    </tr>\n",
       "    <tr>\n",
       "      <th>3</th>\n",
       "      <td>2020-02-07</td>\n",
       "      <td>332.82</td>\n",
       "      <td>333.60</td>\n",
       "      <td>331.60</td>\n",
       "      <td>332.20</td>\n",
       "      <td>-1</td>\n",
       "      <td>-1.0</td>\n",
       "      <td>-1</td>\n",
       "    </tr>\n",
       "    <tr>\n",
       "      <th>4</th>\n",
       "      <td>2020-02-10</td>\n",
       "      <td>331.23</td>\n",
       "      <td>334.71</td>\n",
       "      <td>331.20</td>\n",
       "      <td>334.68</td>\n",
       "      <td>-1</td>\n",
       "      <td>-1.0</td>\n",
       "      <td>-1</td>\n",
       "    </tr>\n",
       "  </tbody>\n",
       "</table>\n",
       "</div>"
      ],
      "text/plain": [
       "         date    open    high     low   close  volume  average  barCount\n",
       "0  2020-02-04  328.07  330.00  327.72  329.07      -1     -1.0        -1\n",
       "1  2020-02-05  332.26  333.08  330.67  332.82      -1     -1.0        -1\n",
       "2  2020-02-06  333.92  334.19  332.80  333.96      -1     -1.0        -1\n",
       "3  2020-02-07  332.82  333.60  331.60  332.20      -1     -1.0        -1\n",
       "4  2020-02-10  331.23  334.71  331.20  334.68      -1     -1.0        -1"
      ]
     },
     "execution_count": 112,
     "metadata": {},
     "output_type": "execute_result"
    }
   ],
   "source": [
    "df_bid.head()"
   ]
  },
  {
   "cell_type": "code",
   "execution_count": 113,
   "metadata": {},
   "outputs": [
    {
     "data": {
      "text/html": [
       "<div>\n",
       "<style scoped>\n",
       "    .dataframe tbody tr th:only-of-type {\n",
       "        vertical-align: middle;\n",
       "    }\n",
       "\n",
       "    .dataframe tbody tr th {\n",
       "        vertical-align: top;\n",
       "    }\n",
       "\n",
       "    .dataframe thead th {\n",
       "        text-align: right;\n",
       "    }\n",
       "</style>\n",
       "<table border=\"1\" class=\"dataframe\">\n",
       "  <thead>\n",
       "    <tr style=\"text-align: right;\">\n",
       "      <th></th>\n",
       "      <th>date</th>\n",
       "      <th>open</th>\n",
       "      <th>high</th>\n",
       "      <th>low</th>\n",
       "      <th>close</th>\n",
       "      <th>volume</th>\n",
       "      <th>average</th>\n",
       "      <th>barCount</th>\n",
       "    </tr>\n",
       "  </thead>\n",
       "  <tbody>\n",
       "    <tr>\n",
       "      <th>0</th>\n",
       "      <td>2020-02-04</td>\n",
       "      <td>328.08</td>\n",
       "      <td>330.01</td>\n",
       "      <td>327.73</td>\n",
       "      <td>329.09</td>\n",
       "      <td>-1</td>\n",
       "      <td>-1.0</td>\n",
       "      <td>-1</td>\n",
       "    </tr>\n",
       "    <tr>\n",
       "      <th>1</th>\n",
       "      <td>2020-02-05</td>\n",
       "      <td>332.27</td>\n",
       "      <td>333.09</td>\n",
       "      <td>330.68</td>\n",
       "      <td>332.83</td>\n",
       "      <td>-1</td>\n",
       "      <td>-1.0</td>\n",
       "      <td>-1</td>\n",
       "    </tr>\n",
       "    <tr>\n",
       "      <th>2</th>\n",
       "      <td>2020-02-06</td>\n",
       "      <td>333.93</td>\n",
       "      <td>334.20</td>\n",
       "      <td>332.81</td>\n",
       "      <td>333.97</td>\n",
       "      <td>-1</td>\n",
       "      <td>-1.0</td>\n",
       "      <td>-1</td>\n",
       "    </tr>\n",
       "    <tr>\n",
       "      <th>3</th>\n",
       "      <td>2020-02-07</td>\n",
       "      <td>332.83</td>\n",
       "      <td>333.62</td>\n",
       "      <td>331.61</td>\n",
       "      <td>332.21</td>\n",
       "      <td>-1</td>\n",
       "      <td>-1.0</td>\n",
       "      <td>-1</td>\n",
       "    </tr>\n",
       "    <tr>\n",
       "      <th>4</th>\n",
       "      <td>2020-02-10</td>\n",
       "      <td>331.23</td>\n",
       "      <td>334.72</td>\n",
       "      <td>331.23</td>\n",
       "      <td>334.69</td>\n",
       "      <td>-1</td>\n",
       "      <td>-1.0</td>\n",
       "      <td>-1</td>\n",
       "    </tr>\n",
       "  </tbody>\n",
       "</table>\n",
       "</div>"
      ],
      "text/plain": [
       "         date    open    high     low   close  volume  average  barCount\n",
       "0  2020-02-04  328.08  330.01  327.73  329.09      -1     -1.0        -1\n",
       "1  2020-02-05  332.27  333.09  330.68  332.83      -1     -1.0        -1\n",
       "2  2020-02-06  333.93  334.20  332.81  333.97      -1     -1.0        -1\n",
       "3  2020-02-07  332.83  333.62  331.61  332.21      -1     -1.0        -1\n",
       "4  2020-02-10  331.23  334.72  331.23  334.69      -1     -1.0        -1"
      ]
     },
     "execution_count": 113,
     "metadata": {},
     "output_type": "execute_result"
    }
   ],
   "source": [
    "df_ask.head()"
   ]
  },
  {
   "cell_type": "code",
   "execution_count": 114,
   "metadata": {},
   "outputs": [],
   "source": [
    "#compare log return and percentage return\n",
    "\n",
    "df['log'] = df['close'].apply(lambda x: math.log(x))\n",
    "df['pct'] = df['close'].pct_change()\n",
    "df['log_diff'] = df['log'].diff()"
   ]
  },
  {
   "cell_type": "code",
   "execution_count": 117,
   "metadata": {},
   "outputs": [
    {
     "name": "stdout",
     "output_type": "stream",
     "text": [
      "volatility is: 0.021462170525255234 skew is: -0.8768820366832853 kurtosis is: 7.477068354245054\n"
     ]
    },
    {
     "data": {
      "image/png": "[encoded data removed]",
      "text/plain": [
       "<Figure size 720x360 with 1 Axes>"
      ]
     },
     "metadata": {
      "needs_background": "light"
     },
     "output_type": "display_data"
    },
    {
     "name": "stderr",
     "output_type": "stream",
     "text": [
      "Peer closed connection\n"
     ]
    }
   ],
   "source": [
    "# Histogram and risk statistics\n",
    "\n",
    "df['log_diff'].plot.hist(figsize = [10,5], bins = 100, title = str(ticker) +' Daily Return Distribution')\n",
    "\n",
    "print ('volatility is:', df['log_diff'].std(), 'skew is:', df['log_diff'].skew(),'kurtosis is:', df['log_diff'].kurtosis())"
   ]
  },
  {
   "cell_type": "code",
   "execution_count": 116,
   "metadata": {},
   "outputs": [
    {
     "name": "stdout",
     "output_type": "stream",
     "text": [
      "volatility is: 0.03444106711821381 skew is: -0.022680022782346192 kurtosis is: 5.794282798289524\n"
     ]
    },
    {
     "data": {
      "image/png": "[encoded data removed]",
      "text/plain": [
       "<Figure size 720x360 with 1 Axes>"
      ]
     },
     "metadata": {
      "needs_background": "light"
     },
     "output_type": "display_data"
    }
   ],
   "source": [
    "df1['log'] = df1['close'].apply(lambda x: math.log(x))\n",
    "df1['pct'] = df1['close'].pct_change()\n",
    "df1['log_diff'] = df1['log'].diff()\n",
    "\n",
    "df1['log_diff'].plot.hist(figsize = [10,5], bins = 100, title = str(ticker1)+' Daily Return Distribution')\n",
    "\n",
    "print ('volatility is:', df1['log_diff'].std(), 'skew is:', df1['log_diff'].skew(),'kurtosis is:', df1['log_diff'].kurtosis())"
   ]
  },
  {
   "cell_type": "code",
   "execution_count": null,
   "metadata": {},
   "outputs": [],
   "source": []
  },
  {
   "cell_type": "code",
   "execution_count": null,
   "metadata": {},
   "outputs": [],
   "source": []
  },
  {
   "cell_type": "code",
   "execution_count": null,
   "metadata": {},
   "outputs": [],
   "source": []
  },
  {
   "cell_type": "code",
   "execution_count": null,
   "metadata": {},
   "outputs": [],
   "source": []
  },
  {
   "cell_type": "code",
   "execution_count": null,
   "metadata": {},
   "outputs": [],
   "source": []
  },
  {
   "cell_type": "code",
   "execution_count": null,
   "metadata": {},
   "outputs": [],
   "source": []
  },
  {
   "cell_type": "code",
   "execution_count": null,
   "metadata": {},
   "outputs": [],
   "source": []
  },
  {
   "cell_type": "code",
   "execution_count": null,
   "metadata": {},
   "outputs": [],
   "source": []
  },
  {
   "cell_type": "code",
   "execution_count": null,
   "metadata": {},
   "outputs": [],
   "source": []
  },
  {
   "cell_type": "code",
   "execution_count": 88,
   "metadata": {},
   "outputs": [
    {
     "name": "stderr",
     "output_type": "stream",
     "text": [
      "<ipython-input-88-cee5bafb4f61>:6: SettingWithCopyWarning: \n",
      "A value is trying to be set on a copy of a slice from a DataFrame.\n",
      "Try using .loc[row_indexer,col_indexer] = value instead\n",
      "\n",
      "See the caveats in the documentation: https://pandas.pydata.org/pandas-docs/stable/user_guide/indexing.html#returning-a-view-versus-a-copy\n",
      "  ohlc['date'] = pd.to_datetime(ohlc['date'])\n",
      "<ipython-input-88-cee5bafb4f61>:7: SettingWithCopyWarning: \n",
      "A value is trying to be set on a copy of a slice from a DataFrame.\n",
      "Try using .loc[row_indexer,col_indexer] = value instead\n",
      "\n",
      "See the caveats in the documentation: https://pandas.pydata.org/pandas-docs/stable/user_guide/indexing.html#returning-a-view-versus-a-copy\n",
      "  ohlc['date'] = ohlc['date'].apply(mpl_dates.date2num)\n"
     ]
    },
    {
     "data": {
      "image/png": "[encoded data removed]",
      "text/plain": [
       "<Figure size 1080x504 with 1 Axes>"
      ]
     },
     "metadata": {
      "needs_background": "light"
     },
     "output_type": "display_data"
    }
   ],
   "source": [
    "from mpl_finance import candlestick_ohlc\n",
    "import matplotlib.dates as mpl_dates\n",
    "\n",
    "\n",
    "ohlc = df[['date', 'open', 'high', 'low', 'close']]\n",
    "ohlc['date'] = pd.to_datetime(ohlc['date'])\n",
    "ohlc['date'] = ohlc['date'].apply(mpl_dates.date2num)\n",
    "ohlc = ohlc.astype(float)\n",
    "\n",
    "# Creating Subplots\n",
    "fig, ax = plt.subplots(figsize =[15,7])\n",
    "\n",
    "candlestick_ohlc(ax, ohlc.values, width=0.6, colorup='green', colordown='red', alpha=0.8)\n",
    "\n",
    "# Setting labels & titles\n",
    "ax.set_xlabel('Date')\n",
    "ax.set_ylabel('Price')\n",
    "fig.suptitle('Daily Candlestick Chart of NIFTY50')\n",
    "\n",
    "# Formatting Date\n",
    "date_format = mpl_dates.DateFormatter('%d-%m-%Y')\n",
    "ax.xaxis.set_major_formatter(date_format)\n",
    "fig.autofmt_xdate()\n",
    "\n",
    "fig.tight_layout()\n",
    "\n",
    "plt.show()"
   ]
  }
 ],
 "metadata": {
  "kernelspec": {
   "display_name": "Python 3",
   "language": "python",
   "name": "python3"
  },
  "language_info": {
   "codemirror_mode": {
    "name": "ipython",
    "version": 3
   },
   "file_extension": ".py",
   "mimetype": "text/x-python",
   "name": "python",
   "nbconvert_exporter": "python",
   "pygments_lexer": "ipython3",
   "version": "3.8.5"
  }
 },
 "nbformat": 4,
 "nbformat_minor": 4
}
