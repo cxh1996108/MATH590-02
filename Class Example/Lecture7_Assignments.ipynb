{
 "cells": [
  {
   "cell_type": "code",
   "execution_count": 12,
   "metadata": {},
   "outputs": [
    {
     "data": {
      "text/plain": [
       "<IB connected to 127.0.0.1:7497 clientId=133>"
      ]
     },
     "execution_count": 12,
     "metadata": {},
     "output_type": "execute_result"
    }
   ],
   "source": [
    "from ib_insync import *\n",
    "from datetime import date, time, datetime, timedelta\n",
    "\n",
    "util.startLoop()\n",
    "\n",
    "ib = IB()\n",
    "ib.connect('127.0.0.1', 7497, clientId=133)"
   ]
  },
  {
   "cell_type": "code",
   "execution_count": 30,
   "metadata": {},
   "outputs": [],
   "source": [
    "# A) Place 10 market orders in 10 minutes increment starting at 10:00am in a given day, with each order to buy 10 shares of GOOG. B) Place the same amount of sell orders to flatten out your  positions.\n",
    "#form GOOG contract\n",
    "contract = Stock('GOOG', 'SMART', 'USD')\n",
    "ib.qualifyContracts(contract)\n",
    "\n",
    "now_time = datetime.now()\n",
    "# at 10:00am place 10 market orders every 10 minutes to buy 10 shares of GOOG\n",
    "\n",
    "#print (now_time.hour,now_time.minute)\n",
    "\n",
    "if now_time.hour == 10 and now_time.minute == 0:\n",
    "    \n",
    "    while i<10:\n",
    "        \n",
    "        order = MarketOrder (\"BUY\", 10)\n",
    "        ib.placeOrder (contract, order)\n",
    "        \n",
    "        i = i+1\n",
    "        ib.sleep(36000)\n",
    "        \n",
    "        print ( i, \"-th order is place\")\n",
    "        \n",
    "# 7 points if they get to this far.\n",
    "\n",
    "# Place a order to flat out previous orders\n",
    "    \n",
    "    orders = MarketOrder(\"SELL\", 10)\n",
    "    ib.placeOrder(contract, orders)\n",
    "# 3 points if they get this part"
   ]
  },
  {
   "cell_type": "code",
   "execution_count": 3,
   "metadata": {},
   "outputs": [],
   "source": [
    "\n",
    "#find the current price \n",
    "px = ib.reqMktData(contract, 221).last\n",
    "#place limit order if price if less than 0.5% of the previous order price. Place an order to by 20 shares at limit price \n",
    "#0.5% lower than previous limit price, up to 100 shares total\n",
    "\n",
    "for i in range (5):\n",
    "    \n",
    "    px = px*(1-0.005)\n",
    "    \n",
    "    order = LimitOrder(\"BUY\", 20, px)\n",
    "    \n",
    "    ib.placeOrder(order)\n",
    "\n",
    " #10 point if they get this part   "
   ]
  },
  {
   "cell_type": "code",
   "execution_count": null,
   "metadata": {},
   "outputs": [],
   "source": []
  }
 ],
 "metadata": {
  "kernelspec": {
   "display_name": "Python 3",
   "language": "python",
   "name": "python3"
  },
  "language_info": {
   "codemirror_mode": {
    "name": "ipython",
    "version": 3
   },
   "file_extension": ".py",
   "mimetype": "text/x-python",
   "name": "python",
   "nbconvert_exporter": "python",
   "pygments_lexer": "ipython3",
   "version": "3.8.5"
  }
 },
 "nbformat": 4,
 "nbformat_minor": 4
}
