{
 "cells": [
  {
   "cell_type": "code",
   "execution_count": 2,
   "metadata": {},
   "outputs": [],
   "source": [
    "from ib_insync import *\n",
    "import numpy as np\n",
    "import pandas as pd\n",
    "from scipy import stats\n",
    "import matplotlib.pyplot as plt\n",
    "#import statsmodels\n",
    "#import statsmodels.api as sm\n",
    "#from statsmodels.tsa.stattools import coint, adfuller\n",
    "#from statsmodels import regression,stats\n",
    "import math\n",
    "import datetime \n",
    "import statsmodels.formula.api as smf \n",
    "from datetime import date, time, datetime, timedelta\n",
    "#from xml.etree import ElementTree as ET\n",
    "#from IPython.core.debugger import set_trace\n",
    "import seaborn as sns\n",
    "import random\n"
   ]
  },
  {
   "cell_type": "code",
   "execution_count": 3,
   "metadata": {},
   "outputs": [
    {
     "data": {
      "text/plain": [
       "<IB connected to 127.0.0.1:7497 clientId=55>"
      ]
     },
     "execution_count": 3,
     "metadata": {},
     "output_type": "execute_result"
    }
   ],
   "source": [
    "# Connect to IB Server\n",
    "ib=IB()\n",
    "util.startLoop()\n",
    "ib.connect('127.0.0.1',7497, clientId= 55)"
   ]
  },
  {
   "cell_type": "code",
   "execution_count": 4,
   "metadata": {},
   "outputs": [],
   "source": [
    "#define a function to get IB data \n",
    "def get_data(contract, history, freq, side):\n",
    "    \n",
    "    bar = ib.reqHistoricalData(\n",
    "        contract,\n",
    "        endDateTime='',\n",
    "        durationStr=history,\n",
    "        barSizeSetting= freq,\n",
    "        whatToShow=side,\n",
    "        useRTH=True,\n",
    "        formatDate=1)\n",
    "    \n",
    "# use util in ib-insync to convert bar data into pandas dataframe    \n",
    "    df = util.df(bar)\n",
    "# return df \n",
    "    return df \n"
   ]
  },
  {
   "cell_type": "code",
   "execution_count": 5,
   "metadata": {},
   "outputs": [
    {
     "data": {
      "text/plain": [
       "[Contract(secType='STK', conId=756733, symbol='SPY', exchange='SMART', primaryExchange='ARCA', currency='USD', localSymbol='SPY', tradingClass='SPY')]"
      ]
     },
     "execution_count": 5,
     "metadata": {},
     "output_type": "execute_result"
    }
   ],
   "source": [
    "# find a stock contract and fully qualify it with all the attributes\n",
    "ticker1 ='QQQ'\n",
    "ticker2 = 'SPY'\n",
    "ticker3 = 'DIA'\n",
    "\n",
    "contract1 = Contract(symbol = ticker1, secType = 'STK', exchange = 'SMART',currency = 'USD')\n",
    "ib.qualifyContracts(contract1)\n",
    "\n",
    "contract2 = Contract(symbol = ticker2, secType = 'STK', exchange = 'SMART',currency = 'USD')\n",
    "ib.qualifyContracts(contract2)\n",
    "\n",
    "contract3 = Contract(symbol = ticker3, secType = 'STK', exchange = 'SMART',currency = 'USD')\n",
    "ib.qualifyContracts(contract2)"
   ]
  },
  {
   "cell_type": "code",
   "execution_count": 8,
   "metadata": {},
   "outputs": [
    {
     "data": {
      "text/html": [
       "<div>\n",
       "<style scoped>\n",
       "    .dataframe tbody tr th:only-of-type {\n",
       "        vertical-align: middle;\n",
       "    }\n",
       "\n",
       "    .dataframe tbody tr th {\n",
       "        vertical-align: top;\n",
       "    }\n",
       "\n",
       "    .dataframe thead th {\n",
       "        text-align: right;\n",
       "    }\n",
       "</style>\n",
       "<table border=\"1\" class=\"dataframe\">\n",
       "  <thead>\n",
       "    <tr style=\"text-align: right;\">\n",
       "      <th></th>\n",
       "      <th>date</th>\n",
       "      <th>open</th>\n",
       "      <th>high</th>\n",
       "      <th>low</th>\n",
       "      <th>close</th>\n",
       "      <th>volume</th>\n",
       "      <th>average</th>\n",
       "      <th>barCount</th>\n",
       "      <th>QQQ</th>\n",
       "    </tr>\n",
       "  </thead>\n",
       "  <tbody>\n",
       "    <tr>\n",
       "      <th>0</th>\n",
       "      <td>2020-02-11</td>\n",
       "      <td>233.21</td>\n",
       "      <td>234.02</td>\n",
       "      <td>231.39</td>\n",
       "      <td>232.01</td>\n",
       "      <td>224361</td>\n",
       "      <td>232.8330</td>\n",
       "      <td>103838</td>\n",
       "      <td>NaN</td>\n",
       "    </tr>\n",
       "    <tr>\n",
       "      <th>1</th>\n",
       "      <td>2020-02-12</td>\n",
       "      <td>233.34</td>\n",
       "      <td>234.38</td>\n",
       "      <td>232.80</td>\n",
       "      <td>234.27</td>\n",
       "      <td>163908</td>\n",
       "      <td>233.6790</td>\n",
       "      <td>69637</td>\n",
       "      <td>0.009741</td>\n",
       "    </tr>\n",
       "    <tr>\n",
       "      <th>2</th>\n",
       "      <td>2020-02-13</td>\n",
       "      <td>232.62</td>\n",
       "      <td>234.93</td>\n",
       "      <td>232.36</td>\n",
       "      <td>233.97</td>\n",
       "      <td>182170</td>\n",
       "      <td>233.9465</td>\n",
       "      <td>77809</td>\n",
       "      <td>-0.001281</td>\n",
       "    </tr>\n",
       "    <tr>\n",
       "      <th>3</th>\n",
       "      <td>2020-02-14</td>\n",
       "      <td>234.28</td>\n",
       "      <td>234.86</td>\n",
       "      <td>233.55</td>\n",
       "      <td>234.64</td>\n",
       "      <td>151674</td>\n",
       "      <td>234.2145</td>\n",
       "      <td>63112</td>\n",
       "      <td>0.002864</td>\n",
       "    </tr>\n",
       "    <tr>\n",
       "      <th>4</th>\n",
       "      <td>2020-02-18</td>\n",
       "      <td>233.47</td>\n",
       "      <td>235.17</td>\n",
       "      <td>233.25</td>\n",
       "      <td>234.73</td>\n",
       "      <td>178255</td>\n",
       "      <td>234.2425</td>\n",
       "      <td>76014</td>\n",
       "      <td>0.000384</td>\n",
       "    </tr>\n",
       "  </tbody>\n",
       "</table>\n",
       "</div>"
      ],
      "text/plain": [
       "         date    open    high     low   close  volume   average  barCount  \\\n",
       "0  2020-02-11  233.21  234.02  231.39  232.01  224361  232.8330    103838   \n",
       "1  2020-02-12  233.34  234.38  232.80  234.27  163908  233.6790     69637   \n",
       "2  2020-02-13  232.62  234.93  232.36  233.97  182170  233.9465     77809   \n",
       "3  2020-02-14  234.28  234.86  233.55  234.64  151674  234.2145     63112   \n",
       "4  2020-02-18  233.47  235.17  233.25  234.73  178255  234.2425     76014   \n",
       "\n",
       "        QQQ  \n",
       "0       NaN  \n",
       "1  0.009741  \n",
       "2 -0.001281  \n",
       "3  0.002864  \n",
       "4  0.000384  "
      ]
     },
     "execution_count": 8,
     "metadata": {},
     "output_type": "execute_result"
    }
   ],
   "source": [
    "#get historical data\n",
    "history = '1 Y'\n",
    "freq = '1 day'\n",
    "side ='Trades' # last trade, or ASK, or Bid\n",
    "\n",
    "df1 = get_data(contract1, history, freq, side )\n",
    "df2 = get_data(contract2, history, freq, side )\n",
    "df3 = get_data(contract3, history, freq, side )\n",
    "\n",
    "# form returns series by taking pct or log changes\n",
    "# from pandas package \n",
    "# as well as numpy\n",
    "\n",
    "df1[ticker1]= df1['close'].pct_change().dropna()\n",
    "df2[ticker2]= df2['close'].pct_change().dropna()\n",
    "df3[ticker3]= df3['close'].pct_change().dropna()\n",
    "\n",
    "#thses are mean or expected returns for the three stocks, based on the 1-year daily data. \n",
    "u1 = df1[ticker1].mean()\n",
    "u2 = df2[ticker2].mean()\n",
    "u3 = df3[ticker3].mean()\n",
    "\n",
    "df1.head() # to see what the top 5 rows look like\n"
   ]
  },
  {
   "cell_type": "code",
   "execution_count": 7,
   "metadata": {},
   "outputs": [
    {
     "data": {
      "text/html": [
       "<div>\n",
       "<style scoped>\n",
       "    .dataframe tbody tr th:only-of-type {\n",
       "        vertical-align: middle;\n",
       "    }\n",
       "\n",
       "    .dataframe tbody tr th {\n",
       "        vertical-align: top;\n",
       "    }\n",
       "\n",
       "    .dataframe thead th {\n",
       "        text-align: right;\n",
       "    }\n",
       "</style>\n",
       "<table border=\"1\" class=\"dataframe\">\n",
       "  <thead>\n",
       "    <tr style=\"text-align: right;\">\n",
       "      <th></th>\n",
       "      <th>QQQ</th>\n",
       "      <th>SPY</th>\n",
       "      <th>DIA</th>\n",
       "    </tr>\n",
       "  </thead>\n",
       "  <tbody>\n",
       "    <tr>\n",
       "      <th>1</th>\n",
       "      <td>0.009741</td>\n",
       "      <td>0.006443</td>\n",
       "      <td>0.009490</td>\n",
       "    </tr>\n",
       "    <tr>\n",
       "      <th>2</th>\n",
       "      <td>-0.001281</td>\n",
       "      <td>-0.001067</td>\n",
       "      <td>-0.003043</td>\n",
       "    </tr>\n",
       "    <tr>\n",
       "      <th>3</th>\n",
       "      <td>0.002864</td>\n",
       "      <td>0.001602</td>\n",
       "      <td>-0.000950</td>\n",
       "    </tr>\n",
       "    <tr>\n",
       "      <th>4</th>\n",
       "      <td>0.000384</td>\n",
       "      <td>-0.002577</td>\n",
       "      <td>-0.005398</td>\n",
       "    </tr>\n",
       "    <tr>\n",
       "      <th>5</th>\n",
       "      <td>0.009585</td>\n",
       "      <td>0.004781</td>\n",
       "      <td>0.003926</td>\n",
       "    </tr>\n",
       "  </tbody>\n",
       "</table>\n",
       "</div>"
      ],
      "text/plain": [
       "        QQQ       SPY       DIA\n",
       "1  0.009741  0.006443  0.009490\n",
       "2 -0.001281 -0.001067 -0.003043\n",
       "3  0.002864  0.001602 -0.000950\n",
       "4  0.000384 -0.002577 -0.005398\n",
       "5  0.009585  0.004781  0.003926"
      ]
     },
     "execution_count": 7,
     "metadata": {},
     "output_type": "execute_result"
    }
   ],
   "source": [
    "#Combine three return series into one pandas frame\n",
    "\n",
    "df =pd.concat([df1[ticker1], df2[ticker2]], axis =1)\n",
    "df = pd.concat([df, df3[ticker3]], axis =1).dropna()\n",
    "\n",
    "#see what df looks like\n",
    "df.head() # top 5 rows of df"
   ]
  },
  {
   "cell_type": "code",
   "execution_count": 10,
   "metadata": {},
   "outputs": [],
   "source": [
    "#finde covariance and correlation matrix\n",
    "\n",
    "df_corr = df.corr()\n",
    "df_cov = df.cov()"
   ]
  },
  {
   "cell_type": "code",
   "execution_count": 13,
   "metadata": {},
   "outputs": [],
   "source": [
    "# Example of \n",
    "\n",
    "\n",
    "A = df_cov\n",
    "wt = pd.DataFrame ([0.4, 0.2, 0.4])\n",
    "wt.index =A.index\n",
    "port_var = wt.T.dot(A.dot(wt))\n",
    "# portfolio variance through matrix multiplication\n"
   ]
  },
  {
   "cell_type": "markdown",
   "metadata": {},
   "source": [
    "$\\Omega = df_{cov}$ \n",
    "is the covariance matrix \n",
    "$w = wt$ is the portfolio weight \n",
    "port_var = $\\mathbf{w}^T\\Omega \\mathbf{w}$"
   ]
  },
  {
   "cell_type": "code",
   "execution_count": 14,
   "metadata": {},
   "outputs": [],
   "source": [
    "# this function calculate the portoflio return and standard deviation for a given weight\n",
    "def port(wt):\n",
    "    \n",
    "    cov_matrix = df_cov\n",
    "    return_matrix = pd.DataFrame ([u1,u2,u3])\n",
    "    \n",
    "    return_matrix.index = cov_matrix.index\n",
    "    \n",
    "    wt.index = cov_matrix.index\n",
    "    \n",
    "    v = cov_matrix.dot(wt)\n",
    "    u = return_matrix.T.dot(wt)\n",
    "    \n",
    "    port_var = wt.T.dot(v).values\n",
    "    \n",
    "    port_return = u.values\n",
    "    \n",
    "    \n",
    "    return [port_return, port_var]"
   ]
  },
  {
   "cell_type": "code",
   "execution_count": 15,
   "metadata": {},
   "outputs": [],
   "source": [
    "#simulate portfolio weights. You should try different ways of simulating to get a sense of how random module works in Python\n",
    "#This is a very rudimentary simulation method.\n",
    "\n",
    "ret =[] # portfolio returns\n",
    "sig =[] # portfolio return volatility\n",
    "\n",
    "n = 100\n",
    "#number of simulation run\n",
    "for i in range(n):\n",
    "    \n",
    "    w1= random.randint(0,n)\n",
    "    \n",
    "    for j in range (n):\n",
    "    \n",
    "        w2 = random.randint (0, n-w1)\n",
    "    \n",
    "        w3 = n-w1-w2\n",
    "        \n",
    "        wt = pd.DataFrame([w1/n, w2/n, w3/n])\n",
    "        \n",
    "        #print (wt)\n",
    "        \n",
    "        r = port (wt)[0]\n",
    "        v = port (wt)[1]\n",
    "        \n",
    "        #print (r, v) \n",
    "        \n",
    "        \n",
    "        ret = np.append (ret, r)\n",
    "        sig = np.append (sig, math.sqrt(v))\n"
   ]
  },
  {
   "cell_type": "code",
   "execution_count": 24,
   "metadata": {},
   "outputs": [
    {
     "data": {
      "image/png": "[encoded data removed]",
      "text/plain": [
       "<Figure size 1224x648 with 1 Axes>"
      ]
     },
     "metadata": {
      "needs_background": "light"
     },
     "output_type": "display_data"
    }
   ],
   "source": [
    "#Generate efficient frontier graph using Matplotlib libirary\n",
    "\n",
    "plt.figure(figsize =[17,9])\n",
    "plt.scatter(sig, ret, color =\"green\")\n",
    "plt.xlabel(\"Volatility\", fontsize='large', fontweight='bold')\n",
    "plt.ylabel(\"Expected Return\",fontsize='large', fontweight='bold')\n",
    "\n",
    "plt.show()\n"
   ]
  },
  {
   "cell_type": "markdown",
   "metadata": {},
   "source": [
    "$\\textbf{Assigment:}$\n",
    "\n",
    "1. Start learning basic Python for Finance at https://www.quantconnect.com/tutorials/tutorial-series/introduction-to-financial-python \n",
    "2. Assuming risk-free rate r_f = 0.0010, please add the tangent line (also call capital market line) to the graph using Matplotlib, also identiy the three stocks (JPM, APPL, XOM) with three dots on the capital market line \n",
    "3. Test to see if CAPM holds based on the 5-year historical data for these three stocks. This invoves running linear regression between daily JPM returns against S&P index (represented by SPY) returns, to see if this regression line is close enough to the capital market line. If different, please use longer history or differetn history to see if it imporve the result.\n",
    "\n"
   ]
  },
  {
   "cell_type": "code",
   "execution_count": null,
   "metadata": {},
   "outputs": [],
   "source": []
  }
 ],
 "metadata": {
  "kernelspec": {
   "display_name": "Python 3",
   "language": "python",
   "name": "python3"
  },
  "language_info": {
   "codemirror_mode": {
    "name": "ipython",
    "version": 3
   },
   "file_extension": ".py",
   "mimetype": "text/x-python",
   "name": "python",
   "nbconvert_exporter": "python",
   "pygments_lexer": "ipython3",
   "version": "3.8.5"
  }
 },
 "nbformat": 4,
 "nbformat_minor": 4
}
